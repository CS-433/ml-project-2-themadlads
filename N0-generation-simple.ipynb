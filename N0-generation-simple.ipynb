{
 "cells": [
  {
   "cell_type": "markdown",
   "id": "israeli-realtor",
   "metadata": {},
   "source": [
    "# Notebook N0 : Génération directe avec le modèle GPT-2\n",
    "\n",
    "Ce notebook montre comment générer du texte avec un modèle GPT-2 pré-entraîné.  Le modèle est celui fourni par Huggingface (https://huggingface.co/gpt2).  Il a été ensuite adapté (*fine-tuned*) par continuation de l'entraînement sur un corpus de poèmes en anglais.  Ce travail a été fait par Teo Ferrari, dans le cadre de son mémoire de bachelor à la HEIG-VD, supervisé par Andrei Popescu-Belis.\n",
    "\n",
    "Le notebook nécessite l'installation du package Transformers (`pip install transformers`), puis le téléchargement du modèle GPT-2 depuis https://drive.switch.ch/index.php/s/ICq06PM0od7cjrD (prendre uniquement `gpt2-poetry-model-crpo.zip` et le décompresser à un emplacement qui devra être indiqué à la `pipeline`). \n",
    "\n",
    "La génération est très simple : elle permet de générer une continuation aléatoire probable d'un texte donné en entrée, jusqu'à une longueur maximale donnée (comptée en mots ou plus exactement en fragments de mots calculés par [SentencePiece](https://github.com/google/sentencepiece))."
   ]
  },
  {
   "cell_type": "code",
   "execution_count": 1,
   "id": "legal-demographic",
   "metadata": {
    "scrolled": true
   },
   "outputs": [],
   "source": [
    "from transformers import pipeline, GPT2Tokenizer, GPT2LMHeadModel"
   ]
  },
  {
   "cell_type": "code",
   "execution_count": 2,
   "id": "democratic-newport",
   "metadata": {},
   "outputs": [],
   "source": [
    "poem_generator = pipeline('text-generation', model='../../crpo/models/gpt2-poetry-model-crpo', tokenizer='gpt2') # change path!"
   ]
  },
  {
   "cell_type": "code",
   "execution_count": 6,
   "id": "geological-weekly",
   "metadata": {
    "scrolled": true
   },
   "outputs": [
    {
     "name": "stderr",
     "output_type": "stream",
     "text": [
      "Setting `pad_token_id` to `eos_token_id`:50256 for open-end generation.\n"
     ]
    },
    {
     "name": "stdout",
     "output_type": "stream",
     "text": [
      "<start>When night falls down\n",
      "<start>On every wind that blows, \n",
      "<start>I go for food \n",
      "<start>That is most fit \n",
      "<start>To make men's hearts beat low. \n",
      "<start>I go for drink \n",
      "<start>That is most just. \n",
      "<start>I go for toys, \n",
      "<start>That the eyes see \n",
      "<start>When the ears listen \n",
      "<start>The words their tears. \n",
      "<start>I go for cheer, \n",
      "<start>And I go when others' fears  \n",
      "<start>When the words their tears. \n",
      "<start>I go for home, \n",
      "<start>And I go when I can't find rest. \n",
      "<start>I go for gold, \n",
      "<start>And I go when I can't find rest. \n",
      "<start>My life is full of strife\n"
     ]
    }
   ],
   "source": [
    "print(poem_generator('<start>When night falls down\\n', max_length = 200)[0]['generated_text'])"
   ]
  },
  {
   "cell_type": "markdown",
   "id": "oriental-challenge",
   "metadata": {},
   "source": [
    "Si vous voulez voir comment un texte donné est segmenté en mots (et fragments de mots), regardez les instructions suivantes.  Chaque nombre parmi les *input_ids* correspond à une unité d'entrée du réseau de neurones, qui est activée lorsque le mot est présenté."
   ]
  },
  {
   "cell_type": "code",
   "execution_count": 4,
   "id": "immune-secondary",
   "metadata": {},
   "outputs": [],
   "source": [
    "tokenizer = GPT2Tokenizer.from_pretrained(\"gpt2\")"
   ]
  },
  {
   "cell_type": "code",
   "execution_count": 5,
   "id": "detected-beast",
   "metadata": {},
   "outputs": [
    {
     "data": {
      "text/plain": [
       "{'input_ids': [27, 9688, 29, 2484, 439, 314, 8996, 17903, 284, 257, 3931, 338, 1110, 6], 'attention_mask': [1, 1, 1, 1, 1, 1, 1, 1, 1, 1, 1, 1, 1, 1]}"
      ]
     },
     "execution_count": 5,
     "metadata": {},
     "output_type": "execute_result"
    }
   ],
   "source": [
    "tokenizer(\"<start>Shall I compare thee to a summer\\'s day'\")"
   ]
  },
  {
   "cell_type": "code",
   "execution_count": null,
   "id": "6613e4b5",
   "metadata": {},
   "outputs": [],
   "source": []
  }
 ],
 "metadata": {
  "kernelspec": {
   "display_name": "Python 3 (ipykernel)",
   "language": "python",
   "name": "python3"
  },
  "language_info": {
   "codemirror_mode": {
    "name": "ipython",
    "version": 3
   },
   "file_extension": ".py",
   "mimetype": "text/x-python",
   "name": "python",
   "nbconvert_exporter": "python",
   "pygments_lexer": "ipython3",
   "version": "3.8.15"
  }
 },
 "nbformat": 4,
 "nbformat_minor": 5
}
