{
 "cells": [
  {
   "cell_type": "markdown",
   "id": "defined-disaster",
   "metadata": {},
   "source": [
    "# Notebook N2 : measure of rhyme quality\n",
    "\n",
    "Ce notebook montre comment déterminer si deux vers rimes ou non.  La fonction proposée (`similar_endings`) retourne en réalité le nombre de phonèmes identiques à la fin de deux vers qui sont donnés sous forme de chaîne (*string*).  On peut décider que ceux-ci riment s'il y a au moins 3 ou 4 phonèmes identiques.  Naturellement, cette fonction est susceptible d'être améliorée, si on dispose d'une bonne représentation des syllabes des mots.\n",
    "\n",
    "La fonction utilise un dictionnaire phonétique de l'anglais généré par Àlex Atrio à partir d'un dictionnaire de prononciation (USA) du système CMU Sphinx, avec des règles pour définir les rimes (parfaites, ou assonantes, voir https://rhymenow.com/types-of-rhymes).  Il peut être téléchargé depuis Switch Drive ([rhyming_dictionaries.pickle](https://drive.switch.ch/index.php/f/5482152834), 5.9 Mo).\n",
    "\n",
    "In addition, we provide functions that given a poem, we can calculate an accuracy over rhymes, and compute the proportion of assonant rhymes, perfects rhymes and other metrics."
   ]
  },
  {
   "cell_type": "code",
   "execution_count": 1,
   "id": "better-schema",
   "metadata": {},
   "outputs": [],
   "source": [
    "import pickle\n",
    "import numpy as np"
   ]
  },
  {
   "cell_type": "code",
   "execution_count": 2,
   "id": "impressive-snake",
   "metadata": {},
   "outputs": [],
   "source": [
    "def get_rhyming_dictionary(path=\"./rhyming_dictionaries.pickle\"):\n",
    "    \"\"\"Pickle contains 3 dictionaries for faster search (hashes: O(1))\n",
    "    {word: [perfect_rhyme, assonant_rhyme]}, {perfect_rhyme : [words...]} \n",
    "    and {assonant_rhyme : [words...]}, but we only need the first one.\n",
    "    \"\"\"\n",
    "    with open(path,\"rb\") as fd:\n",
    "        word2rhymes, _, _ = pickle.load(fd)\n",
    "    return word2rhymes"
   ]
  },
  {
   "cell_type": "code",
   "execution_count": 3,
   "id": "formed-shape",
   "metadata": {},
   "outputs": [],
   "source": [
    "word2rhymes = get_rhyming_dictionary()"
   ]
  },
  {
   "cell_type": "code",
   "execution_count": 4,
   "id": "impressed-brunei",
   "metadata": {},
   "outputs": [
    {
     "name": "stdout",
     "output_type": "stream",
     "text": [
      "Nombre de mots: 123631\n",
      "Exemple d'entrée : ['eyn', 'ey']\n",
      "Exemple d'entrée : ['uw', 'uw']\n",
      "Exemple d'entrée : ['ahnt', 'ah']\n"
     ]
    }
   ],
   "source": [
    "print('Nombre de mots:', len(word2rhymes))\n",
    "print('Exemple d\\'entrée :', word2rhymes['campaign']) # perfect rhyme, assonant rhyme\n",
    "print('Exemple d\\'entrée :', word2rhymes['do']) # short word\n",
    "print('Exemple d\\'entrée :', word2rhymes['wouldn\\'t']) # contraction (also don't & others)"
   ]
  },
  {
   "cell_type": "code",
   "execution_count": 5,
   "id": "intermediate-scene",
   "metadata": {},
   "outputs": [],
   "source": [
    "from nltk.tokenize import word_tokenize\n",
    "# nltk.download('punkt') # may be needed the first time"
   ]
  },
  {
   "cell_type": "code",
   "execution_count": 6,
   "id": "fantastic-workstation",
   "metadata": {},
   "outputs": [],
   "source": [
    "import difflib"
   ]
  },
  {
   "cell_type": "code",
   "execution_count": 7,
   "id": "convertible-french",
   "metadata": {},
   "outputs": [],
   "source": [
    "def verse2rhyme(verse, rhyme_dict):\n",
    "    \"\"\"\n",
    "    Returns an array with two elements: (1) the perfect rhyme and (2) the assonant \n",
    "    rhyme of the verse (its last word, except punctuations and contractions).\n",
    "    Returns an empty array if the word is not found in the dictionary (but we\n",
    "    could use ).\n",
    "    \"\"\"\n",
    "    punctuation = ['.', ',', ',', ':', ';', '!', '?', ' ', '-', '...', '_']\n",
    "    verse = verse.replace('’', '\\'')\n",
    "    v = word_tokenize(verse)\n",
    "    v = [w for w in v if w not in punctuation] # remove all punctuations\n",
    "    if len(v) == 0:\n",
    "        return []\n",
    "    if v[-1] == 'n\\'t':             # tokenizer's output on contraction: don't -> do, n't\n",
    "        final_word = v[-2] + v[-1]  # restore full form (v[-2] is necessarily present)\n",
    "    elif v[-1] == '\\'d':            # for contraction of past participle (Shakespeare!)\n",
    "        final_word = v[-2] + 'ed'\n",
    "    else:\n",
    "        final_word = v[-1]\n",
    "    final_word = final_word.lower()\n",
    "    if final_word not in rhyme_dict: # find a similar word that *is* in the dictionary\n",
    "        similar_words = difflib.get_close_matches(final_word, rhyme_dict.keys(), n=1) # time consuming\n",
    "        # print(final_word, '->', similar_words)\n",
    "        if similar_words == []:\n",
    "            return ['', ''] # if we really couldn't find anything\n",
    "        else:\n",
    "            return rhyme_dict[similar_words[0]]\n",
    "    return rhyme_dict[final_word]"
   ]
  },
  {
   "cell_type": "code",
   "execution_count": 8,
   "id": "favorite-airplane",
   "metadata": {},
   "outputs": [],
   "source": [
    "poem_ED = \"\"\"To make a prairie it takes a clover and one bee,\n",
    "One clover, and a bee.\n",
    "And revery.\n",
    "The revery alone will do,\n",
    "If bees are few.\"\"\""
   ]
  },
  {
   "cell_type": "code",
   "execution_count": 9,
   "id": "incorporate-scratch",
   "metadata": {},
   "outputs": [
    {
     "name": "stdout",
     "output_type": "stream",
     "text": [
      "['iy', 'iy']\n",
      "['iy', 'iy']\n",
      "['iy', 'iy']\n",
      "['uw', 'uw']\n",
      "['uw', 'uw']\n"
     ]
    }
   ],
   "source": [
    "for line in poem_ED.split('\\n'):\n",
    "    print(verse2rhyme(line, word2rhymes))"
   ]
  },
  {
   "cell_type": "code",
   "execution_count": 10,
   "id": "signal-album",
   "metadata": {},
   "outputs": [],
   "source": [
    "def test_rhyme(verse1, verse2, rhyme_dict):\n",
    "    \"\"\"\n",
    "    Returns '2' if verses have \"perfect rhyme\", '1' for \"assonant rhyme\", and '0' otherwise.\n",
    "    See https://rhymenow.com/types-of-rhymes for definitions.\n",
    "    \"\"\"\n",
    "    rh1 = verse2rhyme(verse1, rhyme_dict)\n",
    "    rh2 = verse2rhyme(verse2, rhyme_dict)\n",
    "    \n",
    "    if (len(rh1) == 0) or (len(rh2) == 0):\n",
    "        return 0\n",
    "    elif rh1[0] == rh2[0]:\n",
    "        return 2\n",
    "    elif rh1[1] == rh2[1]:\n",
    "        return 1\n",
    "    else:\n",
    "        return 0"
   ]
  },
  {
   "cell_type": "code",
   "execution_count": 11,
   "id": "0637f3b4",
   "metadata": {},
   "outputs": [
    {
     "data": {
      "text/plain": [
       "0"
      ]
     },
     "execution_count": 11,
     "metadata": {},
     "output_type": "execute_result"
    }
   ],
   "source": [
    "test_rhyme('When love has changed to kindliness\\n',\n",
    "  'Oh , love , our hungry lips that press\\n', word2rhymes)"
   ]
  },
  {
   "cell_type": "code",
   "execution_count": 12,
   "id": "brazilian-butler",
   "metadata": {},
   "outputs": [
    {
     "name": "stdout",
     "output_type": "stream",
     "text": [
      "2 2 2 0 0 \n",
      "2 2 2 0 0 \n",
      "2 2 2 0 0 \n",
      "0 0 0 2 2 \n",
      "0 0 0 2 2 \n"
     ]
    }
   ],
   "source": [
    "# not optimal, because we get the rhymes n^2 times instead of n \n",
    "# but test_rhyme does not take pronunciations\n",
    "for line1 in poem_ED.split('\\n'):\n",
    "    for line2 in poem_ED.split('\\n'):\n",
    "        print(test_rhyme(line1, line2, word2rhymes), end=' ')\n",
    "    print()"
   ]
  },
  {
   "cell_type": "code",
   "execution_count": 13,
   "id": "183d332e",
   "metadata": {},
   "outputs": [],
   "source": [
    "# by default, round to 4 decimals\n",
    "def round_4(x):\n",
    "    return np.round(x, 4)"
   ]
  },
  {
   "cell_type": "code",
   "execution_count": 14,
   "id": "294decbd",
   "metadata": {},
   "outputs": [],
   "source": [
    "def split_in_list(poem, sep_elem):\n",
    "    paragraph = []\n",
    "    for verse in poem:\n",
    "        if verse == sep_elem:\n",
    "            yield paragraph\n",
    "            paragraph = []\n",
    "        else:\n",
    "            paragraph.append(verse)\n",
    "    yield paragraph"
   ]
  },
  {
   "cell_type": "markdown",
   "id": "56889d5e",
   "metadata": {},
   "source": [
    "## For AABB pattern"
   ]
  },
  {
   "cell_type": "code",
   "execution_count": 15,
   "id": "0b646967",
   "metadata": {},
   "outputs": [],
   "source": [
    "# this function must take a in input a poem which has this form :\n",
    "# AA BB CC ... (there is a blank line between 2 pairs of rhymes)\n",
    "# It must return a list which elements are the pairs (A,A), (B,B) ...\n",
    "# This must be consistent in case there is 3 verses produces in the poem (instead of 2) and must then select the first 2 and discard the 3rd verse.\n",
    "# If there is only 1 verse, it discards it.\n",
    "\n",
    "def process_and_pair_poem(poem):\n",
    "    \n",
    "    # IF THE POEM IS A TEXT : split the poem in paragraph (normally 2 verses each)\n",
    "    # poem_split = poem.split('\\n\\n')\n",
    "    \n",
    "    # IF THE POEM IS A LIST : \n",
    "    # parcourir la list et les group ensemble, separer par ceux qui sont vides\n",
    "    \n",
    "    poem_split = split_in_list(poem, '\\n')\n",
    "    \n",
    "    # will contain the correct pairs of verses\n",
    "    poem_by_para = []\n",
    "    \n",
    "    # number of discraded lines\n",
    "    discarded_lines = 0\n",
    "    \n",
    "    for p in poem_split:\n",
    "        if len(p) == 2:\n",
    "            # There is exatly 2 lines, that's what we want.\n",
    "            # We add them as a pair : (A,A)\n",
    "            poem_by_para.append((p[0], p[1]))\n",
    "        elif len(p) >= 3:\n",
    "            # We have too much verse, just keep the first and second one\n",
    "            #print(\"Length >= 3 : At least a line was deleted as she didn't have a partner to rhyme with.\")\n",
    "            poem_by_para.append((p[0], p[1]))\n",
    "            discarded_lines = discarded_lines + (len(p)-2)\n",
    "        elif len(p) == 1:\n",
    "            # there is only 1 line that has been generated in this paragraph. We can't keep it.\n",
    "            #print(\"Length == 1 : A line was deleted as she didn't have a partner to rhyme with.\")\n",
    "            discarded_lines = discarded_lines + 1\n",
    "        #elif len(p) == 0:\n",
    "            \n",
    "            #print(\"Discarded a superfluous blanked line.\")\n",
    "            \n",
    "    print(\"Number of total rhymes : \", len(poem_by_para))\n",
    "    print(\"Number of discarded lines : \", discarded_lines)\n",
    "    \n",
    "    return poem_by_para, discarded_lines"
   ]
  },
  {
   "cell_type": "code",
   "execution_count": 16,
   "id": "b9b76a1d",
   "metadata": {},
   "outputs": [],
   "source": [
    "def get_ryhme_accuracy(poem_input, rhyme_dict=word2rhymes):\n",
    "    \"\"\"\n",
    "    Arguments : \n",
    "        poem_input : list that should consist of AA BB CC ... with spaces meaning blank lines in between pairs of rhyming verses\n",
    "        rhyme_dict : dictionnary of rhyme that helps grading rhymes.\n",
    "        \n",
    "    Return : \n",
    "        accuracy : rhyming score divided by the max rhyming possible : perfect rhyme gives 2 points, assonant rhyme gives 1 point\n",
    "        the formula for the chosen accuracy is : (#perfect * 2 + #assonant*1) / (#total_rhymes * 2)\n",
    "        perfect_rhymes : number of perfect rhymes\n",
    "        assonant_rhymes : number of perfect rhymes\n",
    "        NON_rhymes : number of Non-rhyme verses\n",
    "        non_rhyme_pairs : list that contain the non rhyming verses\n",
    "    \"\"\"\n",
    "        \n",
    "    # match by pair each verse (the structure is AA BB CC...)\n",
    "    poem, discarded = process_and_pair_poem(poem_input)\n",
    "        \n",
    "    total_number_rhymes = len(poem)\n",
    "    \n",
    "    # values, counts to get statistics\n",
    "    score_poem = []\n",
    "    number_perfect_ryhmes = 0\n",
    "    number_assonant_ryhmes = 0\n",
    "    number_NON_ryhmes = 0\n",
    "    \n",
    "    non_rhyme_pairs = []\n",
    "    \n",
    "    # for each pair compute 'how much' they rhyme with _test_rhyme_\n",
    "    for pair in poem:\n",
    "        score = test_rhyme(pair[0], pair[1], rhyme_dict)\n",
    "        \n",
    "        # counts are updated\n",
    "        if score == 2:\n",
    "            number_perfect_ryhmes += 1\n",
    "        elif score == 1:\n",
    "            number_assonant_ryhmes += 1\n",
    "        else: \n",
    "            non_rhyme_pairs.append(pair)\n",
    "            number_NON_ryhmes += 1\n",
    "            \n",
    "        score_poem.append(score)\n",
    "\n",
    "    # compute percentage to display\n",
    "    accuracy = 100 * (np.sum(score_poem) / (2*total_number_rhymes))\n",
    "    perfect_rhymes = 100 * (number_perfect_ryhmes / (total_number_rhymes))\n",
    "    assonant_rhymes = 100 * (number_assonant_ryhmes / (total_number_rhymes))\n",
    "    NON_rhymes = 100 * (number_NON_ryhmes / (total_number_rhymes)) \n",
    "    \n",
    "    print('The accuracy is :', round_4(accuracy), \"%\")\n",
    "    print('The percentage of perfect rhyme is :', round_4(perfect_rhymes), \"%\")\n",
    "    print('The percentage of assonant rhyme is :', round_4(assonant_rhymes), \"%\")\n",
    "    print('The percentage of NON rhyme is :', round_4(NON_rhymes), \"%\")\n",
    "    \n",
    "    \n",
    "    return accuracy, perfect_rhymes, assonant_rhymes, NON_rhymes, non_rhyme_pairs"
   ]
  },
  {
   "cell_type": "code",
   "execution_count": 63,
   "id": "ad2666dd",
   "metadata": {},
   "outputs": [],
   "source": [
    "with open('poems_generated_AABB/rhyming_poems_100_epoch_task1.txt', encoding='utf-8') as f:\n",
    "    generation_to_test = f.readlines()"
   ]
  },
  {
   "cell_type": "code",
   "execution_count": 64,
   "id": "ab259a91",
   "metadata": {
    "scrolled": false
   },
   "outputs": [
    {
     "name": "stdout",
     "output_type": "stream",
     "text": [
      "Number of total rhymes :  466\n",
      "Number of discarded lines :  233\n",
      "The accuracy is : 57.618 %\n",
      "The percentage of perfect rhyme is : 55.1502 %\n",
      "The percentage of assonant rhyme is : 4.9356 %\n",
      "The percentage of NON rhyme is : 39.9142 %\n"
     ]
    }
   ],
   "source": [
    "acc, perfect, good, bad, non_rhyme_pairs = get_ryhme_accuracy(generation_to_test, word2rhymes)"
   ]
  },
  {
   "cell_type": "markdown",
   "id": "3faca5ec",
   "metadata": {},
   "source": [
    "## For ABAB pattern"
   ]
  },
  {
   "cell_type": "code",
   "execution_count": 17,
   "id": "412dc425",
   "metadata": {},
   "outputs": [],
   "source": [
    "# this function must take a in input a poem which has this form :\n",
    "# AA BB CC ... (there is a blank line between 2 pairs of rhymes)\n",
    "# It must return a list which elements are the pairs (A,A), (B,B) ...\n",
    "# This must be consistent in case there is 3 verses produces in the poem (instead of 2) and must then select the first 2 and discard the 3rd verse.\n",
    "# If there is only 1 verse, it discards it.\n",
    "\n",
    "def process_and_pair_poem_ABAB(poem):\n",
    "    \n",
    "    # IF THE POEM IS A TEXT : split the poem in paragraph (normally 2 verses each)\n",
    "    # poem_split = poem.split('\\n\\n')\n",
    "    \n",
    "    # IF THE POEM IS A LIST : \n",
    "    # parcourir la list et les group ensemble, separer par ceux qui sont vides\n",
    "    \n",
    "    poem_split = split_in_list(poem, '\\n')\n",
    "    \n",
    "    # will contain the correct pairs of verses\n",
    "    poem_by_para = []\n",
    "    \n",
    "    # number of discraded lines\n",
    "    discarded_lines = 0\n",
    "    \n",
    "    for p in poem_split:\n",
    "        if len(p) == 4:\n",
    "            # There is exatly 2 lines, that's what we want.\n",
    "            # We add them as a pair : (A,A)\n",
    "            poem_by_para.append((p[0], p[2]))\n",
    "            poem_by_para.append((p[1], p[3]))\n",
    "        else:\n",
    "            for x in p:\n",
    "                if p != '\\n':                \n",
    "                    discarded_lines = discarded_lines + 1\n",
    "                    #print(\"Discarded \", 1, \"lines\")\n",
    "\n",
    "    print(\"Number of total rhymes : \", len(poem_by_para))\n",
    "    print(\"Number of discarded lines : \", discarded_lines)\n",
    "    \n",
    "    return poem_by_para, discarded_lines"
   ]
  },
  {
   "cell_type": "code",
   "execution_count": 18,
   "id": "39b2bb79",
   "metadata": {},
   "outputs": [],
   "source": [
    "def get_ryhme_accuracy_ABAB(poem_input, rhyme_dict=word2rhymes):\n",
    "    \"\"\"\n",
    "    Arguments : \n",
    "        poem_input : list that should consist of AA BB CC ... with spaces meaning blank lines in between pairs of rhyming verses\n",
    "        rhyme_dict : dictionnary of rhyme that helps grading rhymes.\n",
    "        \n",
    "    Return : \n",
    "        accuracy : rhyming score divided by the max rhyming possible : perfect rhyme gives 2 points, assonant rhyme gives 1 point\n",
    "        the formula for the chosen accuracy is : (#perfect * 2 + #assonant*1) / (#total_rhymes * 2)\n",
    "        perfect_rhymes : number of perfect rhymes\n",
    "        assonant_rhymes : number of perfect rhymes\n",
    "        NON_rhymes : number of Non-rhyme verses\n",
    "        non_rhyme_pairs : list that contain the non rhyming verses\n",
    "    \"\"\"\n",
    "        \n",
    "    # match by pair each verse (the structure is AA BB CC...)\n",
    "    poem, discarded = process_and_pair_poem_ABAB(poem_input)\n",
    "        \n",
    "    total_number_rhymes = len(poem)\n",
    "    \n",
    "    # values, counts to get statistics\n",
    "    score_poem = []\n",
    "    number_perfect_ryhmes = 0\n",
    "    number_assonant_ryhmes = 0\n",
    "    number_NON_ryhmes = 0\n",
    "    \n",
    "    non_rhyme_pairs = []\n",
    "    \n",
    "    # for each pair compute 'how much' they rhyme with _test_rhyme_\n",
    "    for pair in poem:\n",
    "        score = test_rhyme(pair[0], pair[1], rhyme_dict)\n",
    "        \n",
    "        # counts are updated\n",
    "        if score == 2:\n",
    "            number_perfect_ryhmes += 1\n",
    "        elif score == 1:\n",
    "            number_assonant_ryhmes += 1\n",
    "        else: \n",
    "            non_rhyme_pairs.append(pair)\n",
    "            number_NON_ryhmes += 1\n",
    "            \n",
    "        score_poem.append(score)\n",
    "\n",
    "    # compute percentage to display\n",
    "    accuracy = 100 * (np.sum(score_poem) / (2*total_number_rhymes))\n",
    "    perfect_rhymes = 100 * (number_perfect_ryhmes / (total_number_rhymes))\n",
    "    assonant_rhymes = 100 * (number_assonant_ryhmes / (total_number_rhymes))\n",
    "    NON_rhymes = 100 * (number_NON_ryhmes / (total_number_rhymes)) \n",
    "    \n",
    "    print('The accuracy is :', round_4(accuracy), \"%\")\n",
    "    print('The percentage of perfect rhyme is :', round_4(perfect_rhymes), \"%\")\n",
    "    print('The percentage of assonant rhyme is :', round_4(assonant_rhymes), \"%\")\n",
    "    print('The percentage of NON rhyme is :', round_4(NON_rhymes), \"%\")\n",
    "    \n",
    "    \n",
    "    return accuracy, perfect_rhymes, assonant_rhymes, NON_rhymes, non_rhyme_pairs"
   ]
  },
  {
   "cell_type": "code",
   "execution_count": 65,
   "id": "cc4a9150",
   "metadata": {},
   "outputs": [],
   "source": [
    "with open('poems_generated_ABAB/poem_ABAB_100.txt', encoding='utf-8') as f:\n",
    "    generation_to_test = f.readlines()"
   ]
  },
  {
   "cell_type": "code",
   "execution_count": 66,
   "id": "57f20c5c",
   "metadata": {},
   "outputs": [
    {
     "name": "stdout",
     "output_type": "stream",
     "text": [
      "Number of total rhymes :  302\n",
      "Number of discarded lines :  574\n",
      "The accuracy is : 47.5166 %\n",
      "The percentage of perfect rhyme is : 43.0464 %\n",
      "The percentage of assonant rhyme is : 8.9404 %\n",
      "The percentage of NON rhyme is : 48.0132 %\n"
     ]
    }
   ],
   "source": [
    "acc, perfect, good, bad, non_rhyme_pairs = get_ryhme_accuracy_ABAB(generation_to_test, word2rhymes)"
   ]
  },
  {
   "cell_type": "markdown",
   "id": "ceb58123",
   "metadata": {},
   "source": [
    "#### Here is other functions that can compute and display rhyming informations given a generated poem. "
   ]
  },
  {
   "cell_type": "code",
   "execution_count": 12,
   "id": "classified-samoa",
   "metadata": {},
   "outputs": [],
   "source": [
    "# faster (and uglier), but does not use test_rhymes, in fact\n",
    "def print_all_rhymes(poem, rhyme_dict):\n",
    "    lines = poem.split('\\n')\n",
    "    rhymes = [verse2rhyme(line, rhyme_dict) for line in lines]\n",
    "    print('Rhymes with previous verses\\n', ' ' * 8, end='')\n",
    "    for i in range(1, len(lines)):\n",
    "        print(i % 10, end=' ')\n",
    "    print('')\n",
    "    for i in range(len(lines)):\n",
    "        print('verse', (i+1) % 10, end=': ')\n",
    "        for j in range(len(lines)-1):\n",
    "            if j >= i:\n",
    "                print('.', end=' ')\n",
    "            elif rhymes[i][0] == rhymes[j][0]:\n",
    "                print('2', end=' ')\n",
    "            elif rhymes[i][1] == rhymes[j][1]:\n",
    "                print('1', end=' ')\n",
    "            else:\n",
    "                print('0', end=' ')\n",
    "        print('')\n",
    "    return rhymes"
   ]
  },
  {
   "cell_type": "code",
   "execution_count": 13,
   "id": "abstract-favorite",
   "metadata": {},
   "outputs": [
    {
     "name": "stdout",
     "output_type": "stream",
     "text": [
      "Rhymes with previous verses\n",
      "         1 2 3 4 \n",
      "verse 1: . . . . \n",
      "verse 2: 2 . . . \n",
      "verse 3: 2 2 . . \n",
      "verse 4: 0 0 0 . \n",
      "verse 5: 0 0 0 2 \n"
     ]
    },
    {
     "data": {
      "text/plain": [
       "[['iy', 'iy'], ['iy', 'iy'], ['iy', 'iy'], ['uw', 'uw'], ['uw', 'uw']]"
      ]
     },
     "execution_count": 13,
     "metadata": {},
     "output_type": "execute_result"
    }
   ],
   "source": [
    "print_all_rhymes(poem_ED, word2rhymes)"
   ]
  },
  {
   "cell_type": "code",
   "execution_count": 14,
   "id": "interesting-syndication",
   "metadata": {},
   "outputs": [],
   "source": [
    "poem_WS = \"\"\"Shall I compare thee to a summer’s day?\n",
    "Thou art more lovely and more temperate:\n",
    "Rough winds do shake the darling buds of May,\n",
    "And summer’s lease hath all too short a date:\n",
    "Sometime too hot the eye of heaven shines,\n",
    "And often is his gold complexion dimm’d;\n",
    "And every fair from fair sometime declines,\n",
    "By chance or nature’s changing course untrimm’d;\n",
    "But thy eternal summer shall not fade\n",
    "Nor lose possession of that fair thou owest;\n",
    "Nor shall Death brag thou wander’st in his shade,\n",
    "When in eternal lines to time thou growest:\n",
    "So long as men can breathe or eyes can see,\n",
    "So long lives this and this gives life to thee.\"\"\""
   ]
  },
  {
   "cell_type": "code",
   "execution_count": 15,
   "id": "assumed-audience",
   "metadata": {},
   "outputs": [
    {
     "name": "stdout",
     "output_type": "stream",
     "text": [
      "Rhymes with previous verses\n",
      "         1 2 3 4 5 6 7 8 9 0 1 2 3 \n",
      "verse 1: . . . . . . . . . . . . . \n",
      "verse 2: 0 . . . . . . . . . . . . \n",
      "verse 3: 2 0 . . . . . . . . . . . \n",
      "verse 4: 1 0 1 . . . . . . . . . . \n",
      "verse 5: 0 0 0 0 . . . . . . . . . \n",
      "verse 6: 0 0 0 0 0 . . . . . . . . \n",
      "verse 7: 0 0 0 0 2 0 . . . . . . . \n",
      "verse 8: 0 0 0 0 1 0 1 . . . . . . \n",
      "verse 9: 1 0 1 1 0 0 0 0 . . . . . \n",
      "verse 0: 0 1 0 0 0 0 0 0 0 . . . . \n",
      "verse 1: 1 0 1 1 0 0 0 0 2 0 . . . \n",
      "verse 2: 0 0 0 0 0 0 0 0 0 0 0 . . \n",
      "verse 3: 0 0 0 0 0 0 0 0 0 0 0 0 . \n",
      "verse 4: 0 0 0 0 0 0 0 0 0 0 0 0 2 \n"
     ]
    },
    {
     "data": {
      "text/plain": [
       "[['ey', 'ey'],\n",
       " ['aht', 'ah'],\n",
       " ['ey', 'ey'],\n",
       " ['eyt', 'ey'],\n",
       " ['aynz', 'ay'],\n",
       " ['ihmd', 'ih'],\n",
       " ['aynz', 'ay'],\n",
       " ['ayd', 'ay'],\n",
       " ['eyd', 'ey'],\n",
       " ['ahst', 'ah'],\n",
       " ['eyd', 'ey'],\n",
       " ['erz', 'er'],\n",
       " ['iy', 'iy'],\n",
       " ['iy', 'iy']]"
      ]
     },
     "execution_count": 15,
     "metadata": {},
     "output_type": "execute_result"
    }
   ],
   "source": [
    "print_all_rhymes(poem_WS, word2rhymes)"
   ]
  },
  {
   "cell_type": "code",
   "execution_count": 16,
   "id": "undefined-upper",
   "metadata": {},
   "outputs": [],
   "source": [
    "poem_WEH = \"\"\"Out of the night that covers me,\n",
    "Black as the pit from pole to pole,\n",
    "I thank whatever gods may be\n",
    "For my unconquerable soul.\n",
    "In the fell clutch of circumstance\n",
    "I have not winced nor cried aloud.\n",
    "Under the bludgeonings of chance\n",
    "My head is bloody, but unbowed.\n",
    "Beyond this place of wrath and tears\n",
    "Looms but the Horror of the shade,\n",
    "And yet the menace of the years\n",
    "Finds and shall find me unafraid.\n",
    "It matters not how strait the gate,\n",
    "How charged with punishments the scroll,\n",
    "I am the master of my fate :\n",
    "I am the captain of my soul.\"\"\""
   ]
  },
  {
   "cell_type": "code",
   "execution_count": 17,
   "id": "australian-lightning",
   "metadata": {},
   "outputs": [
    {
     "name": "stdout",
     "output_type": "stream",
     "text": [
      "Rhymes with previous verses\n",
      "         1 2 3 4 5 6 7 8 9 0 1 2 3 4 5 \n",
      "verse 1: . . . . . . . . . . . . . . . \n",
      "verse 2: 0 . . . . . . . . . . . . . . \n",
      "verse 3: 2 0 . . . . . . . . . . . . . \n",
      "verse 4: 0 2 0 . . . . . . . . . . . . \n",
      "verse 5: 0 0 0 0 . . . . . . . . . . . \n",
      "verse 6: 0 0 0 0 0 . . . . . . . . . . \n",
      "verse 7: 0 0 0 0 2 0 . . . . . . . . . \n",
      "verse 8: 0 1 0 1 0 0 0 . . . . . . . . \n",
      "verse 9: 0 0 0 0 0 0 0 0 . . . . . . . \n",
      "verse 0: 0 0 0 0 0 0 0 0 0 . . . . . . \n",
      "verse 1: 0 0 0 0 0 0 0 0 0 0 . . . . . \n",
      "verse 2: 0 0 0 0 0 0 0 0 0 2 0 . . . . \n",
      "verse 3: 0 0 0 0 0 0 0 0 0 1 0 1 . . . \n",
      "verse 4: 0 2 0 2 0 0 0 1 0 0 0 0 0 . . \n",
      "verse 5: 0 0 0 0 0 0 0 0 0 1 0 1 2 0 . \n",
      "verse 6: 0 2 0 2 0 0 0 1 0 0 0 0 0 2 0 \n"
     ]
    },
    {
     "data": {
      "text/plain": [
       "[['iy', 'iy'],\n",
       " ['owl', 'ow'],\n",
       " ['iy', 'iy'],\n",
       " ['owl', 'ow'],\n",
       " ['aens', 'ae'],\n",
       " ['awd', 'aw'],\n",
       " ['aens', 'ae'],\n",
       " ['owd', 'ow'],\n",
       " ['ehrz', 'eh'],\n",
       " ['eyd', 'ey'],\n",
       " ['ihrz', 'ih'],\n",
       " ['eyd', 'ey'],\n",
       " ['eyt', 'ey'],\n",
       " ['owl', 'ow'],\n",
       " ['eyt', 'ey'],\n",
       " ['owl', 'ow']]"
      ]
     },
     "execution_count": 17,
     "metadata": {},
     "output_type": "execute_result"
    }
   ],
   "source": [
    "print_all_rhymes(poem_WEH, word2rhymes)"
   ]
  }
 ],
 "metadata": {
  "kernelspec": {
   "display_name": "Python 3 (ipykernel)",
   "language": "python",
   "name": "python3"
  },
  "language_info": {
   "codemirror_mode": {
    "name": "ipython",
    "version": 3
   },
   "file_extension": ".py",
   "mimetype": "text/x-python",
   "name": "python",
   "nbconvert_exporter": "python",
   "pygments_lexer": "ipython3",
   "version": "3.8.15"
  }
 },
 "nbformat": 4,
 "nbformat_minor": 5
}
