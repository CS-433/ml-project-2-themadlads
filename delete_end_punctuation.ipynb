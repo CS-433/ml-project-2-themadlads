{
 "cells": [
  {
   "cell_type": "markdown",
   "id": "e3ae29af",
   "metadata": {},
   "source": [
    "### This is a notebook that contains a function that we used in order to delete end punctutation in the text data give to the model to train."
   ]
  },
  {
   "cell_type": "code",
   "execution_count": 1,
   "id": "b50ec678",
   "metadata": {},
   "outputs": [],
   "source": [
    "read_file = 'data_english/english_raw_abab.txt'\n",
    "write_file = 'data_english/english_raw_abab_no_punct.txt'\n",
    "#read_file = '../rhymedata/computer_generated_poems.txt'\n",
    "#write_file = '../rhymedata/computer_generated_poems_no_punkt.txt'\n",
    "from nltk.tokenize import word_tokenize\n",
    "import string\n",
    "punctuation = ['.', ',', ',', ':', ';', '!', '?', ' ', '-', '...', '_',\"''\", \"'\", '--', '``', ')']\n",
    "with open(read_file, 'r', encoding='utf-8') as f:\n",
    "    for line in f.readlines():\n",
    "        l = ''.join([i for i in line if not i.isdigit()])\n",
    "        v = word_tokenize(l)\n",
    "        if len(v)>0:\n",
    "            while (v[-1] in punctuation): #string.punctuation and line[-2] != ')':\n",
    "                v.pop()\n",
    "            if v[-1] == \"'d\":\n",
    "                v.pop()\n",
    "                v[-1] += 'ed'\n",
    "        l =' '.join(v)\n",
    "        l += '\\n'\n",
    "        with open(write_file, 'a', encoding='utf-8') as f2:\n",
    "            f2.write(l)"
   ]
  }
 ],
 "metadata": {
  "kernelspec": {
   "display_name": "Python 3 (ipykernel)",
   "language": "python",
   "name": "python3"
  },
  "language_info": {
   "codemirror_mode": {
    "name": "ipython",
    "version": 3
   },
   "file_extension": ".py",
   "mimetype": "text/x-python",
   "name": "python",
   "nbconvert_exporter": "python",
   "pygments_lexer": "ipython3",
   "version": "3.8.15"
  }
 },
 "nbformat": 4,
 "nbformat_minor": 5
}
