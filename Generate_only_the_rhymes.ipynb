{
 "cells": [
  {
   "cell_type": "markdown",
   "id": "83371b57",
   "metadata": {},
   "source": [
    "#### Keep only the rhymes"
   ]
  },
  {
   "cell_type": "markdown",
   "id": "2d4aa05d",
   "metadata": {},
   "source": [
    "This is a small function that keep only the last words of a verse in order to isolate the rhymes"
   ]
  },
  {
   "cell_type": "code",
   "execution_count": 3,
   "id": "0b774a06",
   "metadata": {},
   "outputs": [],
   "source": [
    "write_file = 'poems_generated_just_rhymes_AABB/just_rhymes.txt'\n",
    "read_file = 'data_english/english_poems_processed.txt'\n",
    "from nltk.tokenize import word_tokenize             "
   ]
  },
  {
   "cell_type": "markdown",
   "id": "528eed93",
   "metadata": {},
   "source": [
    "Buy running it, you will override the just_rhymes.txt in the same way it was constructed. You can see the file text in the poems_generated_just_rhymes_AABB folder instead of re-running this. "
   ]
  },
  {
   "cell_type": "code",
   "execution_count": null,
   "id": "61c63bbc",
   "metadata": {},
   "outputs": [],
   "source": [
    "with open(read_file, 'r', encoding='utf-8') as f:\n",
    "    for line in f.readlines():\n",
    "        v = word_tokenize(line)\n",
    "        if len(v)>0:\n",
    "            l = v.pop()\n",
    "        else:\n",
    "            l = ''.join(v)\n",
    "        l += '\\n'\n",
    "        with open(write_file, 'a', encoding='utf-8') as f2:\n",
    "            f2.write(l)   "
   ]
  }
 ],
 "metadata": {
  "kernelspec": {
   "display_name": "Python 3 (ipykernel)",
   "language": "python",
   "name": "python3"
  },
  "language_info": {
   "codemirror_mode": {
    "name": "ipython",
    "version": 3
   },
   "file_extension": ".py",
   "mimetype": "text/x-python",
   "name": "python",
   "nbconvert_exporter": "python",
   "pygments_lexer": "ipython3",
   "version": "3.8.15"
  }
 },
 "nbformat": 4,
 "nbformat_minor": 5
}
