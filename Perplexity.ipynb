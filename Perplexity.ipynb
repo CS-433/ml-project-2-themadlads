{
 "cells": [
  {
   "cell_type": "markdown",
   "id": "ddfeaaef",
   "metadata": {},
   "source": [
    "## DON'T re run this notebook !"
   ]
  },
  {
   "cell_type": "markdown",
   "id": "dd7df411",
   "metadata": {},
   "source": [
    "### This is a notebook that contains code that allows us to compute the perplexity of a model. This was set up on a shared drive. It's better just to look at the printed results. "
   ]
  },
  {
   "cell_type": "markdown",
   "id": "b9976999",
   "metadata": {},
   "source": [
    "#### We can note that this an additional task we tried to do but it didn't work as expected. We still submit it for the project as this is something we worked on, even if we can't use it for our final results."
   ]
  },
  {
   "cell_type": "code",
   "execution_count": null,
   "id": "lXoNowz0x6yi",
   "metadata": {
    "colab": {
     "base_uri": "https://localhost:8080/"
    },
    "executionInfo": {
     "elapsed": 2516,
     "status": "ok",
     "timestamp": 1671615709615,
     "user": {
      "displayName": "Bastien Bernath",
      "userId": "03764670422689916410"
     },
     "user_tz": -60
    },
    "id": "lXoNowz0x6yi",
    "outputId": "00fdfdea-e7e0-45be-9d22-05c2093929e9"
   },
   "outputs": [
    {
     "name": "stdout",
     "output_type": "stream",
     "text": [
      "True\n",
      "1\n"
     ]
    }
   ],
   "source": [
    "import torch\n",
    "print(torch.cuda.is_available())\n",
    "print(torch.cuda.device_count())\n",
    "torch.cuda.empty_cache()"
   ]
  },
  {
   "cell_type": "code",
   "execution_count": null,
   "id": "669bc616",
   "metadata": {},
   "outputs": [],
   "source": []
  },
  {
   "cell_type": "code",
   "execution_count": null,
   "id": "Ldko2Is1_Jx4",
   "metadata": {
    "colab": {
     "base_uri": "https://localhost:8080/"
    },
    "executionInfo": {
     "elapsed": 28629,
     "status": "ok",
     "timestamp": 1671615738240,
     "user": {
      "displayName": "Bastien Bernath",
      "userId": "03764670422689916410"
     },
     "user_tz": -60
    },
    "id": "Ldko2Is1_Jx4",
    "outputId": "fb96b625-98fd-46ff-dc5d-1261e1ebcc91"
   },
   "outputs": [
    {
     "name": "stdout",
     "output_type": "stream",
     "text": [
      "Mounted at /content/drive\n"
     ]
    }
   ],
   "source": [
    "from google.colab import drive\n",
    "drive.mount('/content/drive')"
   ]
  },
  {
   "cell_type": "code",
   "execution_count": null,
   "id": "c076f918",
   "metadata": {
    "colab": {
     "base_uri": "https://localhost:8080/",
     "height": 601,
     "referenced_widgets": [
      "9e38aceed1bb42dda4dc0f99c040a973",
      "0a5428e30daa42d7b636f9f83beef0bc",
      "111425a7cdc444dcb6452411e4d9181f",
      "6d88663bda494e2896e09b9bab31b0e5",
      "31db786b87d14d42be2df987ec8f5ed2",
      "5389bdcea8e24ba3a1e7f5f6708f6c3c",
      "f740b9f3d23d4123b037c253f1df24c5",
      "42947f1afc194c6f8a6a541bd16230fb",
      "8f504075070940649d086012cda45c1b",
      "18d99103acb64180b3c39d2ab623bf32",
      "dcad8b89d16643729a44109fd14d0b4b",
      "396dbe03a88443e291e1e094492fad23",
      "1f81a4a9152c44c393390dab0b6f157e",
      "f572eaede7734513b064511d46ea6aa5",
      "5ae335a7c805409e8247fd6ccceaf137",
      "b4e51a8abc88466499672bf5113be508",
      "c58b1a4b7a5f4d1d82c0c0da48fc7f27",
      "3855dbf0ac5146feb64ec69330acc58b",
      "1877f967768e40418f32de8206e75471",
      "34b07a0f76f545e190f632aab7f23f09",
      "bdb76f99c4144172aaa9bebc5f5082ae",
      "ec7a1c52007844bc93e242b46a79c39e",
      "f1a8a21d5f2f4aeb9dd2ee1f793df4d6",
      "98e724e47c1f4fddb6fcdc3e98b309c2",
      "5ffa8b66cd4d40dea7c609760bfa6061",
      "eb5481486fc64dbca6e455bec7db40d9",
      "da898641677f44b3a7a703b6664df649",
      "e2b01343540842719742908cfa1ebd48",
      "f0a2c670028a45b99896a8e01b8a79db",
      "6c10bc149c8944dfb34728dd637e607a",
      "276fe4e3772d4807b0f33cf4529c57ec",
      "fff0b91407ac46209ddb190ce5290c4b",
      "eefc8082907949348a1a737877cf386d"
     ]
    },
    "executionInfo": {
     "elapsed": 56249,
     "status": "ok",
     "timestamp": 1671615794485,
     "user": {
      "displayName": "Bastien Bernath",
      "userId": "03764670422689916410"
     },
     "user_tz": -60
    },
    "id": "c076f918",
    "outputId": "b708489e-7433-4025-ed7f-b4488425d6ee"
   },
   "outputs": [
    {
     "name": "stdout",
     "output_type": "stream",
     "text": [
      "Looking in indexes: https://pypi.org/simple, https://us-python.pkg.dev/colab-wheels/public/simple/\n",
      "Collecting transformers\n",
      "  Downloading transformers-4.25.1-py3-none-any.whl (5.8 MB)\n",
      "\u001b[K     |████████████████████████████████| 5.8 MB 30.8 MB/s \n",
      "\u001b[?25hRequirement already satisfied: pyyaml>=5.1 in /usr/local/lib/python3.8/dist-packages (from transformers) (6.0)\n",
      "Collecting huggingface-hub<1.0,>=0.10.0\n",
      "  Downloading huggingface_hub-0.11.1-py3-none-any.whl (182 kB)\n",
      "\u001b[K     |████████████████████████████████| 182 kB 73.9 MB/s \n",
      "\u001b[?25hRequirement already satisfied: regex!=2019.12.17 in /usr/local/lib/python3.8/dist-packages (from transformers) (2022.6.2)\n",
      "Requirement already satisfied: filelock in /usr/local/lib/python3.8/dist-packages (from transformers) (3.8.2)\n",
      "Collecting tokenizers!=0.11.3,<0.14,>=0.11.1\n",
      "  Downloading tokenizers-0.13.2-cp38-cp38-manylinux_2_17_x86_64.manylinux2014_x86_64.whl (7.6 MB)\n",
      "\u001b[K     |████████████████████████████████| 7.6 MB 55.6 MB/s \n",
      "\u001b[?25hRequirement already satisfied: requests in /usr/local/lib/python3.8/dist-packages (from transformers) (2.23.0)\n",
      "Requirement already satisfied: tqdm>=4.27 in /usr/local/lib/python3.8/dist-packages (from transformers) (4.64.1)\n",
      "Requirement already satisfied: packaging>=20.0 in /usr/local/lib/python3.8/dist-packages (from transformers) (21.3)\n",
      "Requirement already satisfied: numpy>=1.17 in /usr/local/lib/python3.8/dist-packages (from transformers) (1.21.6)\n",
      "Requirement already satisfied: typing-extensions>=3.7.4.3 in /usr/local/lib/python3.8/dist-packages (from huggingface-hub<1.0,>=0.10.0->transformers) (4.4.0)\n",
      "Requirement already satisfied: pyparsing!=3.0.5,>=2.0.2 in /usr/local/lib/python3.8/dist-packages (from packaging>=20.0->transformers) (3.0.9)\n",
      "Requirement already satisfied: chardet<4,>=3.0.2 in /usr/local/lib/python3.8/dist-packages (from requests->transformers) (3.0.4)\n",
      "Requirement already satisfied: urllib3!=1.25.0,!=1.25.1,<1.26,>=1.21.1 in /usr/local/lib/python3.8/dist-packages (from requests->transformers) (1.24.3)\n",
      "Requirement already satisfied: idna<3,>=2.5 in /usr/local/lib/python3.8/dist-packages (from requests->transformers) (2.10)\n",
      "Requirement already satisfied: certifi>=2017.4.17 in /usr/local/lib/python3.8/dist-packages (from requests->transformers) (2022.12.7)\n",
      "Installing collected packages: tokenizers, huggingface-hub, transformers\n",
      "Successfully installed huggingface-hub-0.11.1 tokenizers-0.13.2 transformers-4.25.1\n"
     ]
    },
    {
     "name": "stderr",
     "output_type": "stream",
     "text": [
      "/usr/local/lib/python3.8/dist-packages/transformers/models/auto/modeling_auto.py:1177: FutureWarning: The class `AutoModelWithLMHead` is deprecated and will be removed in a future version. Please use `AutoModelForCausalLM` for causal language models, `AutoModelForMaskedLM` for masked language models and `AutoModelForSeq2SeqLM` for encoder-decoder models.\n",
      "  warnings.warn(\n"
     ]
    },
    {
     "data": {
      "application/vnd.jupyter.widget-view+json": {
       "model_id": "9e38aceed1bb42dda4dc0f99c040a973",
       "version_major": 2,
       "version_minor": 0
      },
      "text/plain": [
       "Downloading:   0%|          | 0.00/1.04M [00:00<?, ?B/s]"
      ]
     },
     "metadata": {},
     "output_type": "display_data"
    },
    {
     "data": {
      "application/vnd.jupyter.widget-view+json": {
       "model_id": "396dbe03a88443e291e1e094492fad23",
       "version_major": 2,
       "version_minor": 0
      },
      "text/plain": [
       "Downloading:   0%|          | 0.00/456k [00:00<?, ?B/s]"
      ]
     },
     "metadata": {},
     "output_type": "display_data"
    },
    {
     "data": {
      "application/vnd.jupyter.widget-view+json": {
       "model_id": "f1a8a21d5f2f4aeb9dd2ee1f793df4d6",
       "version_major": 2,
       "version_minor": 0
      },
      "text/plain": [
       "Downloading:   0%|          | 0.00/665 [00:00<?, ?B/s]"
      ]
     },
     "metadata": {},
     "output_type": "display_data"
    }
   ],
   "source": [
    "!pip install transformers\n",
    "from transformers import GPT2LMHeadModel, GPT2Tokenizer, AutoModelWithLMHead, AutoTokenizer\n",
    "\n",
    "device = \"cuda\"\n",
    "model_id = \"gpt2-large\"\n",
    "model = AutoModelWithLMHead.from_pretrained('/content/drive/Shareddrives/ML4Science/gpt2-poetry-model-with-start-token_100_epochs').to(device)\n",
    "\n",
    "#model = AutoModelWithLMHead.from_pretrained('/content/drive/MyDrive/Colab Notebooks/gpt2-poetry-model-crpo').to(device)\n",
    "#model = GPT2LMHeadModel.from_pretrained(model_id).to(device)\n",
    "#model = GPT2LMHeadModel.from_pretrained('/content/drive/MyDrive/Colab Notebooks/Calculate perplexity.ipynb').to(device)\n",
    "tokenizer = GPT2Tokenizer.from_pretrained(\"gpt2\")#AutoTokenizer.from_pretrained(\"gpt2\")"
   ]
  },
  {
   "cell_type": "code",
   "execution_count": null,
   "id": "48e4d94a",
   "metadata": {
    "colab": {
     "base_uri": "https://localhost:8080/"
    },
    "executionInfo": {
     "elapsed": 5316,
     "status": "ok",
     "timestamp": 1671616132625,
     "user": {
      "displayName": "Bastien Bernath",
      "userId": "03764670422689916410"
     },
     "user_tz": -60
    },
    "id": "48e4d94a",
    "outputId": "5aad77de-b321-4a0a-b34f-2735a7591438"
   },
   "outputs": [
    {
     "name": "stdout",
     "output_type": "stream",
     "text": [
      "Looking in indexes: https://pypi.org/simple, https://us-python.pkg.dev/colab-wheels/public/simple/\n",
      "Requirement already satisfied: datasets in /usr/local/lib/python3.8/dist-packages (2.8.0)\n",
      "Requirement already satisfied: responses<0.19 in /usr/local/lib/python3.8/dist-packages (from datasets) (0.18.0)\n",
      "Requirement already satisfied: tqdm>=4.62.1 in /usr/local/lib/python3.8/dist-packages (from datasets) (4.64.1)\n",
      "Requirement already satisfied: pandas in /usr/local/lib/python3.8/dist-packages (from datasets) (1.3.5)\n",
      "Requirement already satisfied: aiohttp in /usr/local/lib/python3.8/dist-packages (from datasets) (3.8.3)\n",
      "Requirement already satisfied: huggingface-hub<1.0.0,>=0.2.0 in /usr/local/lib/python3.8/dist-packages (from datasets) (0.11.1)\n",
      "Requirement already satisfied: requests>=2.19.0 in /usr/local/lib/python3.8/dist-packages (from datasets) (2.23.0)\n",
      "Requirement already satisfied: pyarrow>=6.0.0 in /usr/local/lib/python3.8/dist-packages (from datasets) (9.0.0)\n",
      "Requirement already satisfied: dill<0.3.7 in /usr/local/lib/python3.8/dist-packages (from datasets) (0.3.6)\n",
      "Requirement already satisfied: multiprocess in /usr/local/lib/python3.8/dist-packages (from datasets) (0.70.14)\n",
      "Requirement already satisfied: fsspec[http]>=2021.11.1 in /usr/local/lib/python3.8/dist-packages (from datasets) (2022.11.0)\n",
      "Requirement already satisfied: packaging in /usr/local/lib/python3.8/dist-packages (from datasets) (21.3)\n",
      "Requirement already satisfied: pyyaml>=5.1 in /usr/local/lib/python3.8/dist-packages (from datasets) (6.0)\n",
      "Requirement already satisfied: numpy>=1.17 in /usr/local/lib/python3.8/dist-packages (from datasets) (1.21.6)\n",
      "Requirement already satisfied: xxhash in /usr/local/lib/python3.8/dist-packages (from datasets) (3.1.0)\n",
      "Requirement already satisfied: attrs>=17.3.0 in /usr/local/lib/python3.8/dist-packages (from aiohttp->datasets) (22.1.0)\n",
      "Requirement already satisfied: yarl<2.0,>=1.0 in /usr/local/lib/python3.8/dist-packages (from aiohttp->datasets) (1.8.2)\n",
      "Requirement already satisfied: multidict<7.0,>=4.5 in /usr/local/lib/python3.8/dist-packages (from aiohttp->datasets) (6.0.3)\n",
      "Requirement already satisfied: aiosignal>=1.1.2 in /usr/local/lib/python3.8/dist-packages (from aiohttp->datasets) (1.3.1)\n",
      "Requirement already satisfied: async-timeout<5.0,>=4.0.0a3 in /usr/local/lib/python3.8/dist-packages (from aiohttp->datasets) (4.0.2)\n",
      "Requirement already satisfied: frozenlist>=1.1.1 in /usr/local/lib/python3.8/dist-packages (from aiohttp->datasets) (1.3.3)\n",
      "Requirement already satisfied: charset-normalizer<3.0,>=2.0 in /usr/local/lib/python3.8/dist-packages (from aiohttp->datasets) (2.1.1)\n",
      "Requirement already satisfied: typing-extensions>=3.7.4.3 in /usr/local/lib/python3.8/dist-packages (from huggingface-hub<1.0.0,>=0.2.0->datasets) (4.4.0)\n",
      "Requirement already satisfied: filelock in /usr/local/lib/python3.8/dist-packages (from huggingface-hub<1.0.0,>=0.2.0->datasets) (3.8.2)\n",
      "Requirement already satisfied: pyparsing!=3.0.5,>=2.0.2 in /usr/local/lib/python3.8/dist-packages (from packaging->datasets) (3.0.9)\n",
      "Requirement already satisfied: certifi>=2017.4.17 in /usr/local/lib/python3.8/dist-packages (from requests>=2.19.0->datasets) (2022.12.7)\n",
      "Requirement already satisfied: idna<3,>=2.5 in /usr/local/lib/python3.8/dist-packages (from requests>=2.19.0->datasets) (2.10)\n",
      "Requirement already satisfied: urllib3!=1.25.0,!=1.25.1,<1.26,>=1.21.1 in /usr/local/lib/python3.8/dist-packages (from requests>=2.19.0->datasets) (1.25.11)\n",
      "Requirement already satisfied: chardet<4,>=3.0.2 in /usr/local/lib/python3.8/dist-packages (from requests>=2.19.0->datasets) (3.0.4)\n",
      "Requirement already satisfied: pytz>=2017.3 in /usr/local/lib/python3.8/dist-packages (from pandas->datasets) (2022.6)\n",
      "Requirement already satisfied: python-dateutil>=2.7.3 in /usr/local/lib/python3.8/dist-packages (from pandas->datasets) (2.8.2)\n",
      "Requirement already satisfied: six>=1.5 in /usr/local/lib/python3.8/dist-packages (from python-dateutil>=2.7.3->pandas->datasets) (1.15.0)\n"
     ]
    },
    {
     "name": "stderr",
     "output_type": "stream",
     "text": [
      "WARNING:datasets.builder:Using custom data configuration default-3ed856ae7ffe2276\n",
      "WARNING:datasets.builder:Found cached dataset text (/root/.cache/huggingface/datasets/text/default-3ed856ae7ffe2276/0.0.0/cb1e9bd71a82ad27976be3b12b407850fe2837d80c22c5e03a28949843a8ace2)\n"
     ]
    },
    {
     "name": "stdout",
     "output_type": "stream",
     "text": [
      "Dataset({\n",
      "    features: ['text'],\n",
      "    num_rows: 2227\n",
      "})\n"
     ]
    }
   ],
   "source": [
    "!pip install datasets\n",
    "from datasets import load_dataset\n",
    "#test = load_dataset(\"wikitext\", \"wikitext-2-raw-v1\", split=\"test\")\n",
    "from transformers import GPT2LMHeadModel, GPT2TokenizerFast\n",
    "#test = []\n",
    "read_file = \"/content/drive/MyDrive/Colab Notebooks/rhyming_poems_10_epoch_task1.txt\"\n",
    "#with open(read_file, 'r', encoding='utf-8') as f:\n",
    " #   for line in f.readlines():\n",
    "  #      test.append(line)\n",
    "#test = load_dataset(\"txt\",\"../rhymedata/english_raw/rhyming_poems_100_epoch_task1\", split='test')\n",
    "test = load_dataset(\"text\", data_files={\"test\": read_file}, split=\"test\")\n",
    "#blip = \" \".join(test)\n",
    "print(test)\n",
    "encodings = tokenizer(\"\\n\".join(test[\"text\"]), return_tensors=\"pt\")"
   ]
  },
  {
   "cell_type": "code",
   "execution_count": null,
   "id": "ay25dsnHWSd5",
   "metadata": {
    "colab": {
     "base_uri": "https://localhost:8080/",
     "height": 123
    },
    "executionInfo": {
     "elapsed": 12,
     "status": "ok",
     "timestamp": 1671616132626,
     "user": {
      "displayName": "Bastien Bernath",
      "userId": "03764670422689916410"
     },
     "user_tz": -60
    },
    "id": "ay25dsnHWSd5",
    "outputId": "b0837f4b-b7cb-40cb-cff3-7be971474af4"
   },
   "outputs": [
    {
     "data": {
      "application/vnd.google.colaboratory.intrinsic+json": {
       "type": "string"
      },
      "text/plain": [
       "\"The taste of marmelade is better with you\\n\\n You light up my day when you lace your shoe\\n\\n\\n\\n\\n\\nOn that he had in mind to wait\\n\\nAnd at the first and last in grate\\n\\n\\n\\nHe drew a wicket, and at last\\n\\nThat man within was left behind\\n\\n\\n\\nFor, with the sun and darkness all\\n\\nThe great and faithful dead are all\\n\\n\\n\\nThe last great dead that live and die\\n\\nIs the great one dead. Then he lye\\n\\n\\n\\nThe nightwind is my heart! it stirs\\n\\nA great and silent world of soprano's\\n\\n\\n\\nI am a spirit in the skies\\n\\n'T is night before my golden day's\\n\\n\\n\\nWhen, on each cheek, like summertints shed\\n\\nThe crimson crimson sunshine of the spray\\n\\n\\n\\nOr, in her arms, a maiden in her arms\\n\\nOr in her heart a lover's charms\\n\\n\\n\\nOr in her eyes a mother's words, or mirth's\\n\\n\\n\\nTo such a blissful world of woe and bliss\\n\\n\\n\\n\\n\\nThat, if she could, she should, or I should die or I might try\\n\\nWith me a paean\\n\\n\\n\\nAye my life and soul like a dream of this aye\\n\\n\\n\\n\\n\\nThen, when the moonlight from the hilltops flapping bright\\n\\nThe clouds were white with dawning, I 'd bemoan\\n\\n\\n\\n\\n\\nAnd in my mind was like to wander\\n\\nI long for the warmth of your smile\\n\\n and the sight of your teeth like a crocodile\\n\\n\\n\\n\\n\\nAnd all the things that in our eyes\\n\\nAre but the shadow of the ways\\n\\n\\n\\nWhich never fade away. ï¿½ And O\\n\\nHow didst thou know that life had hermaphrodite\\n\\n\\n\\nThat thou hast done my heart with wrong\\n\\nI 'll go with thee in the morning starlight\\n\\n\\n\\nFor one's own sake, as for thyself\\n\\nThere is the law, and each is elf\\n\\n\\n\\nThy life and soul today is mine\\n\\nThou art, indeed, the thing today I'm beguiled\\n\\n\\n\\nNo other man of mine shall stand\\n\\nAnd hear, nor see, nor hear, nor yet will weigh\\n\\n\\n\\nThe words that come, the deeds that come to thee. No thriftier\\n\\n\\n\\nHimself within, so glorious and so fair\\n\\nHe spake, and with him didst thou\\n\\nFierce fiercer plaiting ewe\\n\\n\\n\\n\\n\\nThe wretch upon the field of battle sown\\n\\nThe youth amid the field of the gazelle\\n\\n\\n\\n\\n\\nAnd on the field of the wild swan ; she lay, and on the plain lall\\n\\nGazing outshone\\n\\n\\n\\n\\n\\nWith such the glory o'er the skyy hills she wore\\n\\nHer hair, that she was fairer marigold\\n\\n\\n\\n\\n\\nSo shall she be at rest\\n\\nThey were mad and in love\\n\\n She was a wolf and he was a dove\\n\\n\\n\\n\\n\\nAnd so she went about her work\\n\\nAnd all her days were done on stall\\n\\n\\n\\nWith all their strength and vigour vain\\n\\nBut one, whom none but gods and blind\\n\\n\\n\\nWhose strength were equal in their might\\n\\nAnd, after, to their souls their might\\n\\n\\n\\nNow at thy foot is laid a stone\\n\\nWith golden bars around it dolce\\n\\n\\n\\nAnd she shall lead thee into death, she\\n\\nAnd she shall teach thee to keep watch aris\\n\\n\\n\\nThy soul shall wake, awake, and let thee\\n\\nBreathe the softest pleasure into slumber, chirped\\n\\n\\n\\nHer soft and tender voice the sun\\n\\nHer soft and tender beauty ryen\\n\\n\\n\\nAs he, whose face of light was darken d\\n\\n\\n\\nAnd who his brow of dark was lasso\\n\\n\\n\\n\\n\\nThe old, the young, the old, the old, the wan. \\n\\nFrom thence I did, of old, a dreamy\\n\\n\\n\\nWe met again, a friend, one who had chagrin\\n\\n\\n\\n\\n\\nThe sweetest kind of days the long ago : she laughed\\n\\nThe old and said, My friend! her dreamy\\n\\nCame! and laughed : My friend! at the old and jaunty\\n\\n\\n\\n\\n\\nI 'd never seen a dream. He laughed again, and laughed : But when spake\\n\\nAnd\\n\\nI long for the warmth of your smile\\n\\n and the sight of your teeth like a crocodile\\n\\n\\n\\n\\n\\nAnd there are a million of you\\n\\nWho are not to be blamed but beujourd'hui\\n\\n\\n\\nHis eye a lustrous fire, that all\\n\\nIn one bright splendor, glimmered\\n\\n\\n\\nLike the sun that slays at midnight\\n\\nWhen the fierce wind's fierce breath blows clobber\\n\\n\\n\\nAnd the blackbird, black and wild, went down\\n\\nThrough the darkness and the smoke and dule\\n\\n\\n\\nA little while that I may see\\n\\nBut the wind has gone out, he brough\\n\\n\\n\\nThe parson in the parlor is wy\\n\\nO, come, let us marry on the kim\\n\\n\\n\\nAnd see! the bridegroom is a kim\\n\\nThere was a great row of girls in gim\\n\\n\\n\\n\\n\\nAnd the last of the merry men was dead. Then you saw\\n\\nThe world in red and redo\\n\\nAs a red fire, she went, and I to petticoat\\n\\n\\n\\n\\n\\nThe last of the merry men was alive\\n\\nThe world in red and redo saw. She saw. I see, I 'd edithe\\n\\n\\n\\n\\n\\nAnd here I turned about as she came to see. She gave him bye\\n\\nI saw the world, and rene\\n\\n\\n\\n\\n\\nAnd then there is no one else shall go, but I that we were her\\n\\nSave at last\\n\\nlife is a tall tender tree\\n\\n savor it like a cookie\\n\\n\\n\\n\\n\\nIt is the fairest flower on the\\n\\ntree, the youngest of the shea\\n\\n\\n\\nI saw him come the second year\\n\\nWhen from the west and west and corsair\\n\\n\\n\\nHe came, and made a circle wide\\n\\nAnd with his head descended wide\\n\\n\\n\\nAnd what I feel, I can not know\\n\\nBecause I know, it is not nel\\n\\n\\n\\nYou are the one to make it clear\\n\\nYou are the one to tell it clear\\n\\n\\n\\nTo tell the truth, to tell the truth\\n\\nAway! away! away! and auskis\\n\\n\\n\\nThe night is dark ; the sun is high\\n\\nAnd yet with one eye it doth meek\\n\\n\\n\\nAnd on some cloudless, silent eve it chide\\n\\n\\n\\nShe, so much loved, so much loved was he who came\\n\\n\\n\\nWhose death, on that bright day, so near had rayed\\n\\n\\n\\nWhom on the morning's morn of his hame\\n\\n\\n\\n\\n\\nSo long as there was time for sighs, so long as breath\\n\\nAnd sighs were thought, so long as life\\n\\n\\n\\n\\n\\nThis love I love, that now I love, so long as death\\n\\nYet this is love to death, I love to life\\n\\n\\n\\n\\n\\nLove for this love of love, and for this love's beguiled\\n\\nAnd for this life of the dove\\n\\n\\n\\n\\n\\n\\n\\nShe walks in beauty, like the night\\n\\n I would love to be her knight\\n\\n\\n\\n\\n\\nAnd when she comes I fear no more\\n\\nThe sun sets, the wind is goodbye\\n\\n\\n\\nThe light is gone away, and now\\n\\nWith all his train of merry cau\\n\\n\\n\\nThe merry old men all are gone\\n\\nAnd all the country round is tawny\\n\\n\\n\\nSo long as life lasts and bliss\\n\\nCan give or take, and death or nevitae\\n\\n\\n\\nAnd he that gives the least at least\\n\\nCan give or take and death or nevitae\\n\\n\\n\\nAnd thus, in his first year, did live\\n\\nNow, all the world is one, and each five\\n\\n\\n\\nOf us is one!'and in the sky\\n\\nThe sky above is one bright jaunty\\n\\n\\n\\n\\n\\nWho, with his little little lamp outspread, hath bathed\\n\\nOur souls in holy oil! and done\\n\\n\\n\\nHappily, she sees and forgets\\n\\n\\n\\nThat sweetly in the day we've made them bright\\n\\n\\n\\n\\n\\nAnd all the things of her heart she doth keep awake\\n\\nAnd now in holy hymn\\n\\n\\n\\n\\n\\nThe soul's full heart upon the holy ground\\n\\nAnd, and all her little feet, we've knelt\\n\\n\\n\\n\\n\\nO we could be at least the very soul of thine\\n\\nWherein my love is deep and fain\\n\\n\\n\\n\\n\\nA little heart in slumber and the fire,\\n\\nDo not stand by my grave and weep\\n\\n The appeal for darkness is to steep\\n\\n\\n\\n\\n\\nHe said, My son, I will perform\\n\\nThis deed, and make it thine to do\\n\\n\\n\\nI will be faithful and refrain\\n\\nFrom the wild wilds and wilds the fain\\n\\n\\n\\nThe bard who soars above the rest\\n\\nThat stars of heav'n may read the rest\\n\\n\\n\\nOr stars that on the sea may see\\n\\nThat light as it doth gleam with viper\\n\\n\\n\\nI can but think he's got it too\\n\\nBecause the sky is too soft a macko\\n\\n\\n\\nAnd he, the dame in whom the soul\\n\\nIs born, will look so little love, so dove\\n\\n\\n\\nNo! no! this is not she we love, my Mary\\n\\nThis is all I know, and she is rarities\\n\\n\\n\\nThis is all I hear, and she is kind to me. lave\\n\\n\\n\\nShe sleeps so well, she sings so sweetly hymns\\n\\n\\n\\nOh! that it seems so faint, so strange, a dream, so l'amour\\n\\n\\n\\n\\n\\nBut, since, ere the world grows dim with light, I know not why\\n\\nWhy do I weep, and weep, I weep so jubilant\\n\\n\\n\\n\\n\\nAnd I, behold her face, and see her eyes of blue, and seagull\\n\\nAnd I, the last grey moonlit hussy\\n\\n\\n\\n\\n\\n\\n\\nlife is a tall tender tree\\n\\n savor it like a cookie\\n\\n\\n\\n\\n\\nAnd when the storm has passed in twain\\n\\nThis little cottage, nestling wain\\n\\n\\n\\nShall lie so sweetly white and young\\n\\nAnd I 'll sit and sing so gay\\n\\n\\n\\nIn its broad heart at rest in peace\\n\\nAnd if thou wilt, thou wilt not frieze\\n\\n\\n\\nNor think for ever of a fall\\n\\nO! thy love and thy heart, O lall\\n\\n\\n\\nWeep not for them that weep ; they know\\n\\nHow little time their tears shall wy\\n\\n\\n\\nFor the light of the fire shall burn\\n\\nTill they know, their grief and their crows\\n\\n\\n\\nAnd all the children of earth shall be\\n\\nA great glory in the flue\\n\\n\\n\\nWhen she sees the sun arise again. O sun\\n\\n\\n\\nAnd if she sees no sun at the end of cayton\\n\\n\\n\\nShe should be happy without my bacon\\n\\n\\n\\n\\n\\nWhen the earth is full of water! she must be glad\\n\\nTo know that the water gatherer\\n\\n\\n\\nIs good and safe to her and balsam\\n\\n\\n\\n\\n\\nAnd if the fish are strong and the trees tall and plutocrat\\n\\n\\n\\nFrom its mouth the earth she must be feline\\n\\n\\n\\n\\n\\nHe who would not sit with his hands upon his knees en\\n\\nHe that would not lie upon his kites\\n\\n\\n\\n\\n\\nThe sun he is in the sun doth not go\\n\\nThe taste of marmelade is better with you\\n\\n You light up my day when you lace your shoe\\n\\n\\n\\n\\n\\nThe lily from the flowertree\\n\\nThe rose that blooms beyond amaryllis\\n\\n\\n\\nWeep not for me, but weeps for you\\n\\nIf God or angels bid you wry\\n\\n\\n\\nHim of the North a suppliant bore\\n\\nWho all along the plains unafraid\\n\\n\\n\\nHis son and heir the hero bore\\n\\nAnd left, as he was wont to hye\\n\\n\\n\\nMy brother and my dearest\\n\\nOur kinsmen and our own sweethearts\\n\\n\\n\\nAnd we must bear, a son, our grief\\n\\nThough, oh, I can't help thinking we're blind\\n\\n\\n\\nIf the night was cold and all the skies\\n\\nWere wet with rain and stars and galleys\\n\\n\\n\\nWe were the same old folk who have made kibbutzis\\n\\n\\n\\nAnd the night is always the same old fiercest\\n\\n\\n\\n\\n\\nIf I had lived, I should live in England. But no\\n\\nThe other, who has made her wen\\n\\n\\n\\nThe other, who hath made her heir in chrysanthemum\\n\\n\\n\\n\\n\\nThere are many men, whose hearts are light with fire, who, like them\\n\\nBurn chrysanthemum\\n\\nBurn for lanyards and claudet\\n\\n\\n\\n\\n\\nAnd in the doth of their souls have wrought their secret harm ; as in holly\\n\\nBut\\n\\nShe walks in beauty, like the night\\n\\n I would love to be her knight\\n\\n\\n\\n\\n\\nAnd from the field she takes their way\\n\\nWhere, to the hills and mountain's ay\\n\\n\\n\\nThe burthen of the field in fee\\n\\nAnd, in their hands a silken flay\\n\\n\\n\\nThat is to be as far away\\n\\nAs I have ever beheld the nay\\n\\n\\n\\nSits still, as if his spirit still\\n\\nAs if in dreamless rapture still\\n\\n\\n\\nTo see the world again. At last\\n\\nHe lifts his hand, and lifts it somerset\\n\\n\\n\\nAnd he can hear the little lark sing\\n\\nThe song of love on wings of binging\\n\\n\\n\\n'T is in that song he sings, that song it grows\\n\\nSweet in the heart beneath the rovers\\n\\n\\n\\nThat night I lay in bed to sleep in dreams\\n\\nAnd dreamed that I heard a lark, a moonbeam\\n\\n\\n\\nThat made my soul to leap and shine and redden\\n\\n\\n\\nLike the faint music of the waters, reeled\\n\\n\\n\\n\\n\\nAway, a long way, and I was weary. The day grew slow\\n\\nFor oh no! I knew the way, and I had soured\\n\\n\\n\\n\\n\\nWas it a fever for her soul, but she slept, for me, a seid\\n\\nThen, when dawn was nigh! she turned red\\n\\n\\n\\n\\n\\nIt was so long since that my vision of the past was sodden\\n\\nlife is a tall tender tree\\n\\n savor it like a cookie\\n\\n\\n\\n\\n\\nSo the little lad got up and\\n\\nGrew a very handsome hou\\n\\n\\n\\nAnd was to have his nose an ear\\n\\nAnd a leg, while he was in soares\\n\\n\\n\\nNor yet to be the end of all\\n\\nBut all that's good, in the whole\\n\\n\\n\\nAnd the love of the birds in the trees\\n\\nI have no heart but love for my pies\\n\\n\\n\\nIn a deep, deep, deep blue lake. And there\\n\\nThey 'd make love while I slept and out\\n\\n\\n\\nAnd if you want a job you've to\\n\\nYou're better off in a ship or plough\\n\\n\\n\\nIf you want to go fishing or hunting\\n\\nYou must do what you've to say to astraying\\n\\n\\n\\nTo seek, for they were far and wide abroad\\n\\nAnd all the stars with love were jon\\n\\n\\n\\nTo see their face there, through the night's dark celandine\\n\\n\\n\\nTo see her body with no fear, no doubt\\n\\n\\n\\nBut I, the very soul at last of manhood's glade\\n\\n\\n\\nWaving her slender hand\\n\\n\\n\\nGlowed in the moonlight with a flame so fair and bly\\n\\n\\n\\n\\n\\nThat, as he watched her, he thought 'twixt night and day, he had to grace\\n\\n\\n\\n\\n\\nHe knew that he was coming, yet forgot who might be\\n\\nHer name of f\\n\\nShe walks in beauty, like the night\\n\\n I would love to be her knight\\n\\n\\n\\n\\n\\nSo that he, too, his mother bore\\n\\nTo his own son, his dear espouse\\n\\n\\n\\nWith tender devotion blest\\n\\nFor in her bosom all the blest\\n\\n\\n\\nWhich the proud king of Spain has brought\\n\\nTo the world's ear? Oh, you must naught\\n\\n\\n\\nWhen he sends you to the palace\\n\\nThe Queen with all her maidens pryor\\n\\n\\n\\nWhose soul, in all its beauty, found\\n\\nWithin her sweet desire to braid\\n\\n\\n\\nI could see it, but the sense\\n\\nWas, I could not see it lise\\n\\n\\n\\nIt was not for the night I dreamed\\n\\nSave when my tears were streaming far's\\n\\n\\n\\nI dreamed I saw beneath the azure snood\\n\\n\\n\\nMy eyes grew bright, and I was young and fair\\n\\n\\n\\nFor all about the garden ground\\n\\n\\n\\nAnd the moon shone shining in bright green lown\\n\\n\\n\\n\\n\\nBesiege avenge the Trojan king with flame\\n\\nMy lord with furious eye and fame\\n\\n\\n\\nWith his great arm in battle led he war. What care\\n\\n\\n\\n\\n\\nWith all her sons, the queen and all her maids, their sire\\n\\nFor them in arms, and her life's\\n\\nTheirs ford an unblemished rite\\n\\n\\n\\n\\n\\nA world must go her sipping with her in a bowl\\n\\nThen, ere she knew\\n\\nMy heart aches just thinking of you\\n\\n But now I am left feeling blue\\n\\n\\n\\n\\n\\nAnd you are only here to see\\n\\nYou know a lot of things ; I shall pea\\n\\n\\n\\nBut now the day is come, and now\\n\\nShe comes, she comes, the long brown parrow\\n\\n\\n\\nAnd now the moon is risen high\\n\\nAnd now, and then the shadows hi\\n\\n\\n\\nIt's Christmas in the Park on Christmasday\\n\\nWith lanterns up all round the sparrow\\n\\n\\n\\nIt's Christmas in the Park on Christmasday\\n\\nWith lanterns down all round the merry\\n\\n\\n\\nThe good old Father of the Church\\n\\nHas made some of his sheep to sousaphic\\n\\n\\n\\nFor that, the poor old shepherd of their flock\\n\\nSo as he fed and played with sheep and pluck\\n\\n\\n\\nHe called the cattle over by his sheep\\n\\n\\n\\nTheir feet were cold, their hearts were wild, their hair\\n\\n\\n\\n\\n\\nWhat time a man in the wilderness had wandered\\n\\nWith all his glooms\\n\\nTo that fair region of the wilds\\n\\n\\n\\n\\n\\nOr wandered up and down the rugged glens where treetops\\n\\n\\n\\nHer love, so kind, so pure, so holy, so pure, so blest\\n\\n\\n\\nHad made an end of this world of hers, and strayed\\n\\n\\n\\n\\n\\nO God is in His grace, so pure, so dear for all, I can see\\n\\nWhose voice is there, so shrined\\n\\nThe taste of marmelade is better with you\\n\\n You light up my day when you lace your shoe\\n\\n\\n\\n\\n\\nThe moon was set in a cloud\\n\\nIn a cloud of stars I was cloud\\n\\n\\n\\nOn the mountain side of Pohyola\\n\\nShe stood at large, and gazed upon mummified\\n\\n\\n\\nO'er the lake on her couch\\n\\nAnd, bending, gazed up and reese\\n\\n\\n\\nThe man in power is in the race\\n\\nHe is the leader of the dame\\n\\n\\n\\nWhile all at once the army flies\\n\\nFoes follow him, and their arms they fright\\n\\n\\n\\nAnd when the storm of battle comes\\n\\nThe morn will shine with glory o'reaps\\n\\n\\n\\nTill night's bright sun shall melt the earth again\\n\\nThe time is ripe, the hour for pen\\n\\n\\n\\nWe, too, must part some time to bear\\n\\n\\n\\nOf those that loved our father's name, and those we ne'er\\n\\n\\n\\n\\n\\nThere was their father ; they that loved our manhood\\n\\nBy God's command, no less than thine\\n\\nFrom morn to eve the pewter\\n\\n\\n\\n\\n\\nFor they did sing, and they did dance, and they sang with lutes\\n\\nWe have our fathers'voice of hymn\\n\\n\\n\\n\\n\\nWith the young birds the song of our fathers, when we two\\n\\nThe song of birches'birches doth laughery\\n\\n\\n\\n\\n\\nWhen our days\\n\\nThey were lonely and tired\\n\\n That is when the shot was fired\\n\\n\\n\\n\\n\\nAnd the soldier called the man\\n\\n'T was time to stop at the gun\\n\\n\\n\\nAnd let him pass, and then rejoice\\n\\nHe's a soldier for his wife\\n\\n\\n\\nThe winds in silence swept him down\\n\\nThe moon rose slowly through the downe\\n\\n\\n\\nThe stars on high above his head\\n\\nAs though he knew them and not dread\\n\\n\\n\\nTo hear her. 'T was not her voice, nor\\n\\nHer words, nor words, that made my kai\\n\\n\\n\\nOr, in a vision, see her die\\n\\nYet, if her soul is in my fae\\n\\n\\n\\nWhen she, the child of sorrow, sees\\n\\nHer brother's bosom burns with braw\\n\\n\\n\\nAnd now the soul of love is all she sees\\n\\nAh! what a dreadful reawakening hues\\n\\n\\n\\nThat night, when the world was no more known\\n\\nI had watched through the dark forest ere\\n\\n\\n\\n\\n\\nThat I sat by him side, and dreamed at last of him\\n\\nI saw him, and cried to him. Oh, my festering zephyrs\\n\\n\\n\\nHe 'll rise and kiss my face and take my paul\\n\\n\\n\\nFor my sake and kiss my hair. And I 'll kiss my head, he 'll make me maim\\n\\n\\n\\n\\n\\nWhen he 'll speak, he spoke, and I will cry, and the dream went back.\\n\\nThey were mad and in love\\n\\n She was a wolf and he was a dove\\n\\n\\n\\n\\n\\nThe sea the sky the sea the sky\\n\\nTo be the home of a bird\\n\\n\\n\\nA child, whom I had never known\\n\\nBeneath the white moon's soft alcuno\\n\\n\\n\\nThe stars have seen it, and I know\\n\\nThe sea is always gay. ï¿½ And goodbye\\n\\n\\n\\nA moment's silent silence followed\\n\\nThen the young man, with earnest dulcimer\\n\\n\\n\\nFarewell to life that was, and to\\n\\nLife that was not, and aye shall be. rue\\n\\n\\n\\nIf all the world could know a name\\n\\nFor the great world is but a name\\n\\n\\n\\nAnd we must go out, without a name, one to\\n\\n\\n\\nTread lightly on the dusty stone, and finde\\n\\n\\n\\nOne name for our new road from birth. For whom\\n\\n\\n\\n\\n\\nThy mother's heart is full of grief and pain\\n\\nThe old man's heart is full of l\\n\\n\\n\\n\\n\\nAnd the old man's heart is full of trouble and of leu\\n\\nShe grieve no more, she grieves no more, he leu\\n\\n\\n\\n\\n\\nAnd the old man's heart is full of wrong and of sleight\\n\\nShe 'll never go astray, he gocart\\n\\n\\n\\n\\n\\nThy father is weary of her, thy mother's child is lass\\n\\nLife, believe, is not a dream\\n\\n You can not wake up just with a scream\\n\\n\\n\\n\\n\\nMy heart has grown to the brim\\n\\nMy soul will burn to the brim, I, limber\\n\\n\\n\\nThe Lord himself in me did cast\\n\\nWhich doth the soul of truth absolvate\\n\\n\\n\\nBut that thou art alone, my soul\\n\\nWhich never more will see how whole\\n\\n\\n\\nTo live with her will, as her will\\n\\nWill live with my will, as her will, unblest\\n\\n\\n\\nThe day when I shall fade and fall\\n\\nBefore the oldworld gleam of lall\\n\\n\\n\\nAnd now the day draws near, and shall\\n\\nReveal my love's return, my celandine\\n\\n\\n\\nAnd my last smile on the world's fair face\\n\\nBut, ah, to think that I may lase\\n\\n\\n\\nThe life of her dear love that once was chace\\n\\n\\n\\n\\n\\nWho had a heart of love in his heart of her heart\\n\\nWhich was his sweetheart's heart but a dong\\n\\n\\n\\n\\n\\nShe smiled at him, and sighed for him, and the last time, while gloating\\n\\n\\n\\n\\n\\nShe told him, with smiles and words of passion, and of lumbar\\n\\nAnd at last, and at length, and at length spake\\n\\n\\n\\n\\n\\nShe made him look like some old lover, to her sweetheart\\n\\nAs he passed through the door ; and leprosy\\n\\n\\n\\n\\n\\nThey were mad and in love\\n\\n She was a wolf and he was a dove\\n\\n\\n\\n\\n\\nSo I knowed a little more about\\n\\nYour mother, but my dad told me\\n\\n\\n\\nNo doubt it is an idle tale\\n\\nWe thought to find your father's mirth\\n\\n\\n\\nAnd then we knew this little child\\n\\nWas gone to sea and all was adored\\n\\n\\n\\nAnd the wind in the trees sings soft\\n\\nBut soon the leaves are wet and flue\\n\\n\\n\\nFor I have often heard them tell\\n\\nA tale of woe and woe of faul\\n\\n\\n\\nThey loved one another with delight\\n\\nWhile others sang and others dame\\n\\n\\n\\nAnd as we went my mind seemed bent\\n\\nUpon the future with the pheromone\\n\\n\\n\\nWherein my thoughts that made them brave\\n\\nMight be, were made my days, my days were lave\\n\\n\\n\\n\\n\\nAnd all the stars are bright beyond the west\\n\\nOr that shone above the blest\\n\\n\\n\\nThen I, whose eyes no mortal man may pheromone\\n\\n\\n\\n\\n\\nThe world is a great world and all is thine\\n\\nAnd all it is is is is must be thou lucent\\n\\n\\n\\n\\n\\nThou art free from its strife I've known to thee too long, O Father! qu\\n\\nAscent\\n\\n\\n\\nHow canst thou be the soul's sweet voice and joyous gibe\\n\\nThou art, thy soul that I can lisping\\n\\n\\n\\n\\n\\nAh\\n\\nThey were mad and in love\\n\\n She was a wolf and he was a dove\\n\\n\\n\\n\\n\\nAnd they were very much the same\\n\\nThey had a great big quarrel, he maim\\n\\n\\n\\nThey fought till time had ceased to run\\n\\nAnd all was still with their play\\n\\n\\n\\nAnd so to speak, forsooth I deem\\n\\nHer love was deep as deep in mind\\n\\n\\n\\nThere, in the wood, my love, I lay\\n\\nAnd saw her trembling, trembling ne'er\\n\\n\\n\\nShe had a spirit ; in her breast\\n\\nShe stood her breath upon my neet\\n\\n\\n\\nAnd the white moon was down and bright\\n\\nLike all the stars that are alight\\n\\n\\n\\nTo my lips, like flowers on the tree\\n\\nI heard him singing, while I thought it vie\\n\\n\\n\\n\\n\\nMyself, I knew not : but yet with one voice I swore\\n\\nI heard him for my part, with dread\\n\\n\\n\\nHis eyes were fixed upon mine, he strove to beak\\n\\n\\n\\n\\n\\nThen, as the fire began to scorch me with the fire\\n\\nWith his breath my mouth to entwine\\n\\n\\n\\n\\n\\nIn my mouth I fell, and my breath to quench him, and outspent\\n\\nI gushed with the gouty\\n\\n\\n\\nMy soul had a great pain, and was sick to death to save\\n\\n\\n\\n\\n\\nI did so, but felt the fire burn me as the more hot breath in cinq\\n\\n\\n\\n\\n\\nBut, ah\\n\\nlife is a tall tender tree\\n\\n savor it like a cookie\\n\\n\\n\\n\\n\\nWho is this thou art, that dost speak\\n\\nOf thy true heart and thy true worth sown\\n\\n\\n\\nOr with what spirit art thou here\\n\\nThou, gentle heart, that with thine bier\\n\\n\\n\\nBows her fair head above his brows\\n\\nThe lily smiles, and on her brows\\n\\n\\n\\nThy form with softest touch shall go\\n\\nNo more we see the lily bawl\\n\\n\\n\\nI was an angel ; once a child\\n\\nI loved thy image and thy wild\\n\\n\\n\\nAs I came to thee, as one with love\\n\\nAs one with love I loved and of\\n\\n\\n\\nThe land where our love was born, the land of\\n\\n\\n\\nLove alone, the land of dreams, where nothing\\n\\n\\n\\nBut love shall ever find its way outflung\\n\\n\\n\\nThe land of the old gods and the old earth\\n\\n\\n\\nFor thou have seen and heard and loved me yet\\n\\n\\n\\n\\n\\nAnd not forgotten and not seen the land of birth\\n\\n\\n\\nWhere nothing but the glad life of youth\\n\\n\\n\\n\\n\\nAnd oh! what a little, bright and lovely sky\\n\\nIs she\\n\\nMy eyes are filled with tears, my heart is merrygoround\\n\\n\\n\\n\\n\\nAnd in my hand the ground is covered with platters\\n\\nAnd I hear her words of joy\\n\\nAnd I'm outgrow\\n\\n\\n\\n\\n\\nAnd my face gleam as the stars in a garden of\\n\\nThe taste of marmelade is better with you\\n\\n You light up my day when you lace your shoe\\n\\n\\n\\n\\n\\nBut, after that, I went off to school\\n\\nTo make a show of books, and school\\n\\n\\n\\nFrom her to me, in the same place\\n\\nShe still seems, that love is a face\\n\\n\\n\\nAnd I beheld her in the skies\\n\\nNo less than now, so pure in fjords\\n\\n\\n\\nAnd aye my love and I were fain\\n\\nFor she is fairer than her hare\\n\\n\\n\\nWhich by the moon's reflected beams\\n\\nSeemed to the sun, from far astray's\\n\\n\\n\\nThat shining brightness which so well enshrouds\\n\\nO earth, how dost thou now dispirits\\n\\n\\n\\nAnd if I still beheld them in this light\\n\\nIf I had thought they were some kind of light\\n\\n\\n\\n\\n\\nThe olden stars were shining in their orbs\\n\\nThe olden stars were shining in their twos\\n\\n\\n\\n\\n\\nAnd, though I saw a little of each hue\\n\\nIn a thousand glories\\n\\nIn their vaz\\n\\n\\n\\nOh, if my little eyes had read the stars, they had no percussive\\n\\n\\n\\n\\n\\nThe voice was still the same, I heard a whisper\\n\\nAh, I, I, he cried, oh, what a lisping\\n\\n\\n\\n\\n\\nHe did not speak! But now, and now, in silence, he seemed as if to gurg\\n\\nShe walks in beauty, like the night\\n\\n I would love to be her knight\\n\\n\\n\\n\\n\\nI wish I had two hearts I own\\n\\nMy darling of a happy groan\\n\\n\\n\\nFor no one ever told me to\\n\\nOr made me a stranger to chitchat\\n\\n\\n\\nThis is the only way that I\\n\\nCan travel : to the far, unco\\n\\n\\n\\nAnd from behind them all they flew\\n\\nAt once the dogs began their flight\\n\\n\\n\\nBut that they may not fear, my friend\\n\\nHe makes reply, he loves us old\\n\\n\\n\\nOurs was a merry time when youth\\n\\nAnd beauty both were wont to bloom\\n\\n\\n\\nAnd love was as its own sweet music\\n\\nOh! where art thou? what is Love for droning\\n\\n\\n\\nThyself so sweet and pure and full of bliss\\n\\nOft with the words of loving chaste\\n\\n\\n\\nMy spirit doth the same, but noblest part\\n\\n\\n\\nShe is more pure and holy : thus thou canst sing\\n\\n\\n\\n\\n\\nAnd, like the stars, the sun is the bridegroom's bridegroom\\n\\nWhose joy is in the liskey\\n\\n\\n\\n\\n\\nWith gentle mien and the voice of the merrygoat\\n\\nIs there no fitter to warden\\n\\n\\n\\n\\n\\nOr, the moon or her bright face? and silvery dew\\n\\nThat the world must not be cozier\\n\\n\\n\\n\\n\\nAnd I am free, and I am free indeed am free as\\n\\nI long for the warmth of your smile\\n\\n and the sight of your teeth like a crocodile\\n\\n\\n\\n\\n\\nThan the love of their mother\\n\\nThan the love of their brother\\n\\n\\n\\nAnd all who love her will not doubt\\n\\nTo keep the love they cherish fain\\n\\n\\n\\nWhen there was a mighty wind\\n\\nAnd all the great trees were red and indigest\\n\\n\\n\\nAnd the great rivers ran in one\\n\\nAnd the great rivers ran indigest\\n\\n\\n\\nAnd the little ones had their play\\n\\nIn the garden with the gray\\n\\n\\n\\nTo see the mighty rivers rise\\n\\nAnd to their children pass the meads\\n\\n\\n\\nNor can they with the sea so clear a view\\n\\nThe mountains and the lakes and wry\\n\\n\\n\\nNor can they with the winds so calm a view\\n\\nThe seas and woods and oceans peregrine\\n\\n\\n\\nO how I love her! 't is sweet I've heard the severest\\n\\n\\n\\nTo hear her call the distant woods and skies grieve\\n\\n\\n\\n\\n\\nTo hear the distant hills and seas complain\\n\\nBut I have not yet been to any\\n\\n\\n\\nTo any land, to land and sea I'm not a spurring\\n\\n\\n\\n\\n\\nHow many nights she sleeps and how many days she stays\\n\\nHow oft she sighs and how oft she surmises\\n\\n\\n\\nHow oft she sighs and how oft she wavers\\n\\nHow oft she murmurs and how she feigns\\n\\n\\n\\n\\n\\nHow oft she's\\n\\nLife, believe, is not a dream\\n\\n You can not wake up just with a scream\\n\\n\\n\\n\\n\\nSo he rose, and drew his staff\\n\\nAnd thus made answer in his maw\\n\\n\\n\\nWe shall not wed again till spring\\n\\nThe Lord is strong, the Lord is springing\\n\\n\\n\\nI never thought of him! All day\\n\\nI watched him, waiting for his shay\\n\\n\\n\\nWith a smile that made no sign\\n\\nOf doubt the man would soon be fain\\n\\n\\n\\nO'the merry days of my old\\n\\nWhar my boyhood went on sae road\\n\\n\\n\\nI would like to have you take my hand\\n\\nAs I took my heart while astride\\n\\n\\n\\nAnd the wild horses are racing away\\n\\nAnd the red fox's heart is gloating byebye\\n\\n\\n\\nThe hounds are racing in the thick of the chase\\n\\n\\n\\nTo look towards the valley. We pass the house\\n\\n\\n\\nIn our last year, and there I've been dreaming feline\\n\\n\\n\\nAnd you, in this world, have wandered way\\n\\n\\n\\n\\n\\nWith my heart as you have loved and lived and loved me still\\n\\nAnd oh, what was that wild waylaid\\n\\n\\n\\n\\n\\nI saw this wild, haunted house, haunted house, haunted ghostly house\\n\\nHow in the west I know! It was too\\n\\n\\n\\n\\n\\nAnd now the light was on my soul I saw in a sultry\\n\\n\\n\\n\\n\\nThen out from the house all the air\\n\\nI am writting this poem for you\\n\\n To let you know that I will always be true\\n\\n\\n\\n\\n\\nBy this time the day was nearly done\\n\\nAnd the sun was risen and quenched\\n\\n\\n\\nThe little maid took her seat in her\\n\\nA white bed of white linen fattened\\n\\n\\n\\nThere were many a maid that passed\\n\\nBy day and night upon that sas\\n\\n\\n\\nOrlando, to the king he said\\n\\nAs if he knew not whence he fed\\n\\n\\n\\nBlessed are they that in a world\\n\\nThat here they lie, so near their whirled\\n\\n\\n\\nThe only thing to please is love\\n\\nFrom the old day, when men were of\\n\\n\\n\\nAs the winds do, by thy voice he goes\\n\\nAnd, all, his love, though he may flings\\n\\n\\n\\nThe soul's last light across her soul's fair zon\\n\\n\\n\\n\\n\\nTears, like the rain on your eyes, that, in their gloom\\n\\nFlash out and vanish co\\n\\n\\n\\nLike the rain in autumn's midnight mart\\n\\n\\n\\nOn the hills of the mountain glimmer\\n\\n\\n\\nFrom the hills of the meadow gray\\n\\n\\n\\nBeside a fountain in the hinterland\\n\\n\\n\\nAnd the daffodils lie in the snowe\\n\\n\\n\\nOn the hills of the heather's face and thorn\\n\\n\\n\\n\\n\\nAnd the snowwhite deer lie in the snowcovered meadow berry\\n\\nAt last, as we fare\\n\\n\\n\\n\\n\\nThey\\n\\nlife is a tall tender tree\\n\\n savor it like a cookie\\n\\n\\n\\n\\n\\nTo the young lads and boys and girls\\n\\nThe moon was like a shining reindeer's\\n\\n\\n\\nAnd our hearts beat fast, and we prayed\\n\\nWhen the great moon came out to mew\\n\\n\\n\\nWhat is Love to the child of God\\n\\nLove to a child that has sinless? nes\\n\\n\\n\\nThe light of love was in us still\\n\\nAnd the love was in our soul lell\\n\\n\\n\\nWhere the brightflowers are lying\\n\\nO'er the meadows of the chaffin\\n\\n\\n\\nThe dewdrop falls down like silver rain\\n\\nBut the dewdrop falls down like sleet\\n\\n\\n\\nHe had no love nor care nor pity\\n\\nThe man that he loved had no perjurer\\n\\n\\n\\nShe would have given him back her darling\\n\\nShe who brought him her darling kimono\\n\\n\\n\\nThere, on each pillow, in her breast, is the blue bird\\n\\n\\n\\nA young bird that loves and loves to be\\n\\n\\n\\nHer voice, above the flowers a rattle\\n\\n\\n\\n\\n\\nHer head hung like a sword in her lap, a boy who would have cried\\n\\n\\n\\nAs if her eyes came forth into sight\\n\\n\\n\\nThat she was dead, and I lived in her bed white bed\\n\\n\\n\\n\\n\\nAnd there in the garden lay a woman's breathless cry\\n\\nA youth, a girl was she and she weir\\n\\n\\n\\n\\n\\nBeneath the\\n\\nLife, believe, is not a dream\\n\\n You can not wake up just with a scream\\n\\n\\n\\n\\n\\nThen from her neck, with softdrawn\\n\\nRoses drooping, rose a blackbird's plodding\\n\\n\\n\\nHe heard a rushing on the bank\\n\\nSaw a light, that seemed to flicker\\n\\n\\n\\nAnd there he had it laid before\\n\\nAnd when the day began to ere\\n\\n\\n\\nThe wind blows high, the raindrops fly\\n\\nAnd all the mountains'side are drown\\n\\n\\n\\n'T is then that he began to know\\n\\nHow far a soul from earthly crocco\\n\\n\\n\\nWhen 't is so many lips are sealed\\n\\nHow many eyes must fill the cell\\n\\n\\n\\nWhen life is past and death is past\\n\\nI leave you, and leave you in your last\\n\\n\\n\\nWho's there? O God! The first I saw you gloam\\n\\n\\n\\nBeside me! I see the sunlit hilltops ream\\n\\n\\n\\n\\n\\nOn thee! and the green hills where the cactus bramble\\n\\nAs if it must be thy pomposity\\n\\n\\n\\n\\n\\nTo take thyself alone for God! Who's there? And they all clatter\\n\\nHe said, and lo! And the churchyard mew\\n\\nShout, and the ferns are shivered\\n\\n\\n\\nIn the light of that bright river ragged and white shaven\\n\\n\\n\\n\\n\\nAnd all the woods are bright with the dews of the\\n\\nThey were lonely and tired\\n\\n That is when the shot was fired\\n\\n\\n\\n\\n\\nAnd the dead dead were in their sleep\\n\\nThe little red rose of the bluebell\\n\\n\\n\\nLifts its slender head and sings\\n\\nCome, sweet child. There is a quiet thrushes\\n\\n\\n\\nWhen a blackbird sings by day\\n\\nOr a squirrel runs to the nay\\n\\n\\n\\nWhose eyes, that through the night so long\\n\\nGaze not upon them, shall not oar\\n\\n\\n\\nA single star that shines or shines\\n\\nIs as the night before the glories\\n\\n\\n\\nOr as my soul from sleep shall take\\n\\nWith all its grief, at such a take\\n\\n\\n\\nI'm no longer here to care for nothing\\n\\nO my mother, to my tingling\\n\\n\\n\\nThy heart to share thy sorrow thou art dying\\n\\nFor this we are to be bereft and dawdling\\n\\n\\n\\nFrom her we are laid by all the evil\\n\\n\\n\\nFrom her we are torn and eaten perishing\\n\\n\\n\\nFrom her we are scattered for our hunger\\n\\n\\n\\n\\n\\nLemminkainen, Lemminkainen's offspring\\n\\nGainst her father's wife was erst\\n\\n\\n\\nAnd she was born a virgin fairer nomenclature\\n\\n\\n\\n\\n\\nSister, fair sister, fairest maiden, born\\n\\n\\n\\n\\n\\nWorthy of the mother's father's love and kinsman\\n\\n\\n\\n\\n\\nThus the son of Pohyola thus the\\n\\nMy heart aches just thinking of you\\n\\n But now I am left feeling blue\\n\\n\\n\\n\\n\\nAye, the moon is shining through\\n\\nWith her pale shadow over blue\\n\\n\\n\\nAnd she looks down through the dewdrop fair\\n\\nOn a white bed beneath the ne'er\\n\\n\\n\\nAway! away! away! awa! I\\n\\nAm the little thing beside\\n\\n\\n\\nOn the hillside. Here, the summer\\n\\nIs falling, and there's no aegea\\n\\n\\n\\nNo sweetheart, no little one\\n\\nWhither hast thou fled? and where hast thou strayed\\n\\n\\n\\nI had no fear : I had no dread\\n\\nWho came upon me, to my dread\\n\\n\\n\\nSo that her bosom he had brought me\\n\\nThrough my wild journey through the mazy\\n\\n\\n\\nThe night was passing slowly passing long\\n\\nO'er the sea and hills and shing\\n\\n\\n\\nHow many times and how many times\\n\\nThere were more things than I would tell\\n\\n\\n\\nIf there were more people then\\n\\n\\n\\nShe made the sea and hills and hills a flagellate\\n\\n\\n\\nO love me well. Oh, you are sad! She is sweet! I know\\n\\n\\n\\nThe moon, I wonder if I do not love you, yet lovelace\\n\\n\\n\\n\\n\\nAnd she has caught on fire. And the sun has risen high\\n\\nAnd she is very red\\n\\nAnd I to love her, and she is lucy\\n\\n\\n\\n\\n\\nAnd now she smiles,\\n\\nThe taste of marmelade is better with you\\n\\n You light up my day when you lace your shoe\\n\\n\\n\\n\\n\\nWhen a man, who dares not to be\\n\\nBe called, does but dare to act, as flattery\\n\\n\\n\\nThen let some other man be proud\\n\\nAnd in some wise their deeds to fame\\n\\n\\n\\nWhere's the sweet life I love to play\\n\\nCome play, sweet lassie, come play\\n\\n\\n\\nCome play, sweet lassie, come play\\n\\nAway go the lasses, the sleigh\\n\\n\\n\\nA little while away the moon\\n\\nAnd all your world is dark ; you've tromp\\n\\n\\n\\nAnd yet at last for me the stars are light\\n\\nWe've got no way to rest ; for night\\n\\n\\n\\nIs all the way to hell ; and yet we come\\n\\n\\n\\nSo, then, farewell, good night, and welcome zanzibar\\n\\n\\n\\nA good man may be brave in a place of\\n\\n\\n\\nA day or two, and not be ill, as he may moselle\\n\\n\\n\\nAnd that he will in some other place\\n\\n\\n\\nAs he may live or die is to some unseen man's apatite\\n\\n\\n\\n\\n\\nAnd he is happy still. No place\\n\\nTo my dear girl in the world, by far moorland\\n\\nHer mother's, with a graced\\n\\n\\n\\n\\n\\nTo all things else is in such grace to those in this world, but unkind\\n\\nI am writting this poem for you\\n\\n To let you know that I will always be true\\n\\n\\n\\n\\n\\nThis is what I have to bear. And\\n\\nI fear they have an evil crockery\\n\\n\\n\\nThat will not be washed away when\\n\\nThe poor go home to bed a rompy\\n\\n\\n\\nAnd a soft light wind in the west\\n\\nAnd a soft kiss on the wind outgrew\\n\\n\\n\\nI must be in his arms again\\n\\nNow he has grown far and ken\\n\\n\\n\\nI must be in his arms again\\n\\nBeneath his feet I 'll lay me when\\n\\n\\n\\nThe very sun shall rise again\\n\\nWe 'll dance from the fields together ken\\n\\n\\n\\nWe 'll play from the hills together now\\n\\nThe old man bowed his head and shum\\n\\n\\n\\nTo give a voice to that dear, dear one I hear\\n\\nThe dear one I loved, dear one I lo\\n\\n\\n\\nTo bring his soul, dear one I love, dear one\\n\\n\\n\\nShe heard me sobbing, sobbing, sobbing, sobbing, sobbing, sobbing! sobbing\\n\\n\\n\\nHe was the one who knew his heart must ache\\n\\n\\n\\nIn bed, dear friend, dear friend! he was the one who saw her ache\\n\\n\\n\\n\\n\\nHe made no answer to my pleading\\n\\nBeside him I knew his grief may haughtily\\n\\n\\n\\n\\n\\nThis is her home in Eden, this is her home wherewithal\\n\\nHow sweet\\n\\nlife is a tall tender tree\\n\\n savor it like a cookie\\n\\n\\n\\n\\n\\nOf a land which no one ever knew\\n\\nHe left not a trace of a unearth\\n\\n\\n\\nO'er the wild wild woods we roam\\n\\nAnd the white cliffs that lift their naut\\n\\n\\n\\nHast thou but been a little while\\n\\nThe great and lowly dead and dole\\n\\n\\n\\nThe world to the world must go, O\\n\\nAnd then it shall be told of pryor\\n\\n\\n\\nIn the heart of the woods at night\\n\\nWhen I look up into the firelight\\n\\n\\n\\nAnd dream that all is dark and black\\n\\nWhen I look up a little bickering\\n\\n\\n\\nIn the dark at dawn of the day\\n\\nThe day's sun in the East is nigh\\n\\n\\n\\nIn the east at noon and evening\\n\\n\\n\\nAs she stood in the street by a wellknown\\n\\n\\n\\nHomeward, she was standing by the firelight\\n\\n\\n\\nAt some other day, when the great\\n\\n\\n\\nFruittree stood on the lawns of the world's binder\\n\\n\\n\\n\\n\\nSought her a place within his bosom, and he passed\\n\\nWhere he looked to find a store\\n\\n\\n\\nWhere she stood with hope and rapture and with ache\\n\\n\\n\\n\\n\\nAnd he looked and thought of the days gone by to life\\n\\nShe passed, and he thought of her home\\n\\n\\n\\nFrom the world's life that he loved in his embrace\\n\\n\\n\\n\\n\\nBrought us\\n\\nThey were mad and in love\\n\\n She was a wolf and he was a dove\\n\\n\\n\\n\\n\\nShe grew the wife of a poor man\\n\\nWho was to sell his cattle kangaroo\\n\\n\\n\\nWhere are those that once were our own\\n\\nThen would you tell them that we mone\\n\\n\\n\\nIf you 'd had them when I was there\\n\\nYes, you 'd have them when I was there\\n\\n\\n\\nForget not : the eternal day\\n\\nIs past ; the stars above are ray\\n\\n\\n\\nWith all their splendour and delight\\n\\nAnd in my breast the bliss was tine\\n\\n\\n\\nAnd all my thoughts were rapt in joy\\n\\nThe world in bliss I had not yoy\\n\\n\\n\\nThe long, long day is past : the night has flown\\n\\nThe hours of midnight have flown fawn\\n\\n\\n\\nShe saw him passing by ; she heard the tread\\n\\nOf shadows on the grass\\n\\nIn the great fields afar. We hear them tread\\n\\n\\n\\n\\n\\nThe old men standing, and the young men dead\\n\\nHe heard the daffodils, and headstones lead\\n\\n\\n\\n\\n\\nHe had forgotten to sing or dream or sing and play\\n\\nHe thought of God, and thought of pott\\n\\n\\n\\n\\n\\nA thousand times over his dear face : an\\n\\nThe old woman stood beside her shined\\n\\n\\n\\n\\n\\nShe saw a little child beside them side by side and bancroft\\n\\nAnd heard his feet that chirp\\n\\n\\n\\nThe world was a strange story, though he loved\\n\\nDo not stand by my grave and weep\\n\\n The appeal for darkness is to steep\\n\\n\\n\\n\\n\\nI am sick of my own country\\n\\nI am sick of the way my country\\n\\n\\n\\nHearken, little girl, to dreams\\n\\nAnd listen to the gentle wind's\\n\\n\\n\\nSongs to my music tell of days\\n\\nOf longago, and of last days\\n\\n\\n\\nTill one, who, through a thousand years\\n\\nHad passed his earthly years, were years\\n\\n\\n\\nBrought back again his own again\\n\\nBut now would he not live, in kenn\\n\\n\\n\\nOf all thy children, and behold\\n\\nIn all thy ways a perfect yew\\n\\n\\n\\nWith one more, and my husband with her\\n\\nThis day would pass unto a lassie\\n\\n\\n\\nIf in a thousand other lands she did\\n\\nNot come to be a sister. Then, said the lassie\\n\\n\\n\\nBut what if I should come to have a son\\n\\nI don't know, she answered, with a sigh\\n\\n\\n\\n\\n\\nAnd then the little man of Galilee answered\\n\\nNo, of those other crows\\n\\nIn this dark hour! Ah, yes, it has puzzled him\\n\\n\\n\\n\\n\\nI can not say, said the little maiden, if my sim\\n\\nIs kowtowtow\\n\\n\\n\\nHe looked at him with a mild blush of love. Now am I, then said the serenade\\n\\n\\n\\n\\n\\nI can not say with what, he smiled, she laughed and\\n\\nlife is a tall tender tree\\n\\n savor it like a cookie\\n\\n\\n\\n\\n\\nHath made a garden of my dream\\n\\nA garden of my soul and tripartite\\n\\n\\n\\nA garden of my love and mine\\n\\nAnd there is none like a king in thee\\n\\n\\n\\nAll hail to thee, my dearest friend\\n\\nThe sun, whose light will never part\\n\\n\\n\\nWhen day is done, shall take a part\\n\\nThis night he wakes, and with the rest\\n\\n\\n\\nThe world shall know his joy and pain\\n\\nAnd, while we dream, the stars will gleam\\n\\n\\n\\nThe lilywhite and pink and gold\\n\\nAnd oh! we were all so gay that mold\\n\\n\\n\\nAnd though we were so young and so young\\n\\nAnd I never heard the wild luo\\n\\n\\n\\nI'm but a girl in a lily gown\\n\\nWhom all the world may view no wrong\\n\\n\\n\\n\\n\\nAnd the sweet spring of life is all the world\\n\\n's desire and wild west\\n\\nThat has the joys of wild earth's unfurled\\n\\n\\n\\n\\n\\nO, my Lady I pray you, for the love you've lost\\n\\n'Tis mine to keep awake and blest\\n\\nAnd I am weary at the naught\\n\\n\\n\\nOft thy sweet words have I said sweetheart\\n\\nIf you are weary, I will not corsair\\n\\n\\n\\n\\n\\nYet, O! so my Lady, if so may I wilt hear thy sweetheart say\\n\\nI\\n\\nDo not stand by my grave and weep\\n\\n The appeal for darkness is to steep\\n\\n\\n\\n\\n\\nThe first the warrior slew, and he\\n\\nWho slew his brother in his dextro\\n\\n\\n\\nWhence the great king, at the approach\\n\\nOf a new, bright, and beautiful nate\\n\\n\\n\\nLooked down and saw his knights, and cried\\n\\nWho lives and comes, my lord, to me. mused\\n\\n\\n\\nWhat, shall I see, O Master, here\\n\\nA face with love and kindness buccaneer\\n\\n\\n\\nThe love I sought I only know\\n\\nFor, ah, no pain my heart has ned\\n\\n\\n\\nWith one another, all alone\\n\\nI may forget all sorrow or outright\\n\\n\\n\\n'Twixt sorrow and a sighing for a while\\n\\nI may forget my years and my shen\\n\\n\\n\\nThee, my good wife, the maiden whom God loved me shorn\\n\\n\\n\\nIn other days by thine own hand, the dew\\n\\n\\n\\nI had been wedded in Paradise to dew\\n\\n\\n\\nI have not lost my crown, nor lost thy grace, the unbound\\n\\n\\n\\n\\n\\nHear me, oh, be still, O faithful and pure! though far\\n\\nMy heart thou art, O faithful pompeian\\n\\n\\n\\n\\n\\nOh, let us part at thy sweet words, sweet lips, my children dear young\\n\\n\\n\\nAnd do not we part, my children dear. We shall not blithely\\n\\n\\n\\n\\n\\nNo\\n\\nThey were mad and in love\\n\\n She was a wolf and he was a dove\\n\\n\\n\\n\\n\\nNo doubt the maid had gone ahunting\\n\\nWith the whitewinged deer to flocking\\n\\n\\n\\nBut the young lady still grew dim\\n\\nShe was the darling of her fad\\n\\n\\n\\nWhen I was little, and I thought\\n\\nOf God who holds in fee\\n\\n\\n\\nMy head and hands and feet and arms\\n\\nHe knows my soul, He knows me arms\\n\\n\\n\\nOf that which was, not mine, yet is\\n\\nThis, in the soul, one only lisztas\\n\\n\\n\\nThe mind by which the body parts\\n\\nWhich is more perfect, I have part's\\n\\n\\n\\nThan he can see, nor understand how\\n\\nHe who can write, nor read and parrot\\n\\n\\n\\nThe world with all its mysteries, must be a\\n\\n\\n\\n\\n\\nAnd he 'd fain have caught a better chance of staying\\n\\nBy 'tween the two ; and in the duet\\n\\nThey had been playing, the last of all takin\\n\\n\\n\\n\\n\\nThe game of whiting, with an Irish gudgeon\\n\\nFor the next of the cuckoo\\n\\nThey had been wooing, but the scampi\\n\\n\\n\\n\\n\\nWhat if not? he 'll not go back and tell me again ; or leave me, or not\\n\\nThe gaudet\\n\\n\\n\\nAnd I 'll say to him, What if they 'd fain he 'd play him\\n\\nMy heart aches just thinking of you\\n\\n But now I am left feeling blue\\n\\n\\n\\n\\n\\nA little while ago there sat\\n\\nGigantic the king a queen who spied\\n\\n\\n\\nHer hands about his waist and knees\\n\\nWith lifted lips, and eyes which rais\\n\\n\\n\\nWhen you have passed the first sweet night\\n\\nWhere the dewy stars had lightest sleight\\n\\n\\n\\nWhen you have passed the first sweet night\\n\\nAnd you have passed the first sweet light\\n\\n\\n\\nAway, away! away! away\\n\\nCome back, O come back! come yay\\n\\n\\n\\nCome home, O come back once again\\n\\nWe've a new world to live in the ken\\n\\n\\n\\nWe've a new birth to follow through the year\\n\\nWe're going down to the longlegged furlong\\n\\n\\n\\nAnd he has put me on his back, and I'm on him\\n\\nThee, my sister, in love at hollie\\n\\n\\n\\nThis is the end of all the song of love\\n\\nWhose song is a song of love which percussive\\n\\n\\n\\n\\n\\nThou art the light of love that lives, this bright and swift\\n\\nWhose song is the song that comes so serenely\\n\\n\\n\\n\\n\\nAnd the voice of love that breathes of love that stirs the soul in me\\n\\nThis is the song of mirth\\n\\nWhich sings so sweetly to the mouth\\n\\n\\n\\n\\n\\nOf all the sweet and tenderness of love that\\n\\nThe taste of marmelade is better with you\\n\\n You light up my day when you lace your shoe\\n\\n\\n\\n\\n\\nYou keep me company again\\n\\nIn a ring, O my sweetie, on a kenn\\n\\n\\n\\nWhere we the firs, I 'll sing with her\\n\\nAll a day in my life she tambourine\\n\\n\\n\\nHark to the whir of the moorcock\\n\\nShe 'll sing till I fall asleep ladd\\n\\n\\n\\nThe little bluebirds flutter in the\\n\\nSunbeams of the evening, hoe\\n\\n\\n\\nThe lark's sweet note, the starlit breeze\\n\\nThe sunbeams of the evening winnowed\\n\\n\\n\\nThe moon in her silver mantle gleams\\n\\nThe stars in her silver glories glistens\\n\\n\\n\\nHe has no soul ; God's is his soul, said she\\n\\nShe whispered, with a sigh of unreconciled\\n\\n\\n\\nHe is not she ; but she who is she now\\n\\n\\n\\nHas not a word that she must die for, sir. I said byebye\\n\\n\\n\\n\\n\\nI see that she was not her lover! she smiled\\n\\nThe boy cried, and stroked her trembling lip, which n\\n\\n\\n\\n\\n\\nHis words to her were in the thought to quench for evermore\\n\\nAh! she smiled, she smiled, he laughed ; then kissed, and spake\\n\\n\\n\\n\\n\\nSaying, I hear no more ; I may not choose between yelp and\\n\\nShe walks in beauty, like the night\\n\\n I would love to be her knight\\n\\n\\n\\n\\n\\nHe saw the sea in a cloudless heaven\\n\\nAs it rolled up its broad rim in daron\\n\\n\\n\\nAnd then came down and said : We have\\n\\nAn hour of rest ; let us try cesare\\n\\n\\n\\nThen went to fetch a cup of water\\n\\nAnd placed it in a basin brim\\n\\n\\n\\nAnd wept upon the earth for thee\\n\\nAnd wept upon the altar thrall\\n\\n\\n\\nWhere thy lightest beams shall shine no more\\n\\nThe soul's eternal image befall\\n\\n\\n\\nThe glory of the daystar shine\\n\\nAnd in that image make the hermaphrodite\\n\\n\\n\\nI will not love again, though thou\\n\\nArt in despair this life, I wyll goodbye\\n\\n\\n\\nThe rose shall fade, the rose shall fade, the rose shall fleece\\n\\n\\n\\nAnd I, too, will die, my life be sweet\\n\\nAnd thou must die in fauci\\n\\n\\n\\nI say no more ; but 't is I that shall be a maid\\n\\n\\n\\nBut, let me go in life without a care, my lady\\n\\n\\n\\n\\n\\nThe little black cat, with her big eyes of a lily\\n\\nBut, so blue as a mist of her chalcedony\\n\\n\\n\\nThat glimmering, and so tender, and so lily\\n\\n\\n\\nFlutters and flutters, like the rose's petrify\\n\\n\\n\\n\\n\\nAh! behold\\n\\nlife is a tall tender tree\\n\\n savor it like a cookie\\n\\n\\n\\n\\n\\nThen the child was very glad\\n\\nAnd the mother said to the proud dung\\n\\n\\n\\nThe furloughs of her long hair. Ah\\n\\nThat's not the way to say, I'm qu\\n\\n\\n\\nNo, it's not the way to say\\n\\nWhen the birds sing at dusk to bakay\\n\\n\\n\\nI will not let another know\\n\\nThe night that lies beyond the peaty\\n\\n\\n\\nTo look upon this land of dreams\\n\\nI will not let another gleams\\n\\n\\n\\nThe moonbeams, when one sees her shine\\n\\nAre like the rays of morning's bown\\n\\n\\n\\nThat she might be a star ; and she was light\\n\\nAnd bright, and she was bright. The world began\\n\\n\\n\\nâ€œ What time the sun with dew sets on her brow\\n\\n\\n\\nFalls white against a cloudy bed? The world he lead\\n\\n\\n\\n\\n\\nâ€œ Why doth he the stream so often see? The stars in bright\\n\\nAnd moonshine he wade the sky? They cry\\n\\n\\n\\n\\n\\nâ€œ Why gild the mountain's rocky crest? Why doth he ride a flood?'s\\n\\nFor how can he forswear the heaves? And daffodils\\n\\n\\n\\nâ€œ No lightnings flash? What is the wind at night? The stars he hears? But where he g\\n\\nI long for the warmth of your smile\\n\\n and the sight of your teeth like a crocodile\\n\\n\\n\\n\\n\\nIf, when the wind is still, the moon\\n\\nWill seem a mirror unto her rhapsodize\\n\\n\\n\\nThat I may hear her whisper there\\n\\nAnd see your smiles and sorrow there\\n\\n\\n\\nWho can but love as well as love\\n\\nWhen he is gone, my little dove\\n\\n\\n\\nShe said the words which follow\\n\\nThus her words did answer inaudible\\n\\n\\n\\nIt was so little when it struck\\n\\nA golden light across her staid\\n\\n\\n\\nOr when, in a strange way, she seemed\\n\\nTo think to turn and be an outcast\\n\\n\\n\\n'T was so much that she felt, as if she spake\\n\\nSome words that never came in twain\\n\\n\\n\\nWhen I, in sooth, was thinking oft\\n\\nThat the world was dark as mine aping\\n\\n\\n\\nHer love so deep was so kind and good\\n\\n\\n\\nThough so deep and dear, and she was so strong and good\\n\\n\\n\\nWho has said more than my heart doth say yes\\n\\n\\n\\nThat I love you most, that I am strong and sere\\n\\n\\n\\n\\n\\nWho for one hour have made so many dreams\\n\\nThe other for one hour have slain\\n\\n\\n\\nHe had not wrought as he hath wrought, nor wrought well\\n\\nThe last wild gush\\n\\n\\n\\n\\n\\nWhen, as the wind did blow upon our city wall and floor\\n\\nA voice did cry, we to us\\n\\nThey were mad and in love\\n\\n She was a wolf and he was a dove\\n\\n\\n\\n\\n\\nHer hair was yellow with a sheen\\n\\nHer eyes were as red as a flue\\n\\n\\n\\nShe spoke no words, for she did not\\n\\nTo the great Father's home she treasured\\n\\n\\n\\nAnd there alone with God she heard\\n\\nThe world was wild and in its shear\\n\\n\\n\\nAnd the seagull, the giant gull\\n\\nTook the child from the water's yew\\n\\n\\n\\nAnd the bird said to the seagull\\n\\nO thou that art of might and brawn\\n\\n\\n\\nAnd now, as though it were their doom\\n\\nNo longer shall that awful british\\n\\n\\n\\nBefall us, this is I swear by\\n\\nAnd if this deed my hand shall scrawl\\n\\n\\n\\nThen, in that forest of the woody glen\\n\\n\\n\\nThe last wild deer his fate had planned\\n\\n\\n\\nHe looked down upon the ground and wondered, grim\\n\\n\\n\\n\\n\\nFor it hath wrought great woe, and so 't was he bereft\\n\\nAnd he was left to rheingold\\n\\n\\n\\nTo be with us, that we who loved so glorified\\n\\n\\n\\n\\n\\nThe Lord who gave it to himself and God of grace\\n\\nFor us. Alas! the world is fierceness\\n\\n\\n\\n\\n\\nAnd his own mother, who had seen her child so slighted it, was\\n\\nWith joy and trestle\\n\\n\\n\\n\\n\\nWith him to him\\n\\nlife is a tall tender tree\\n\\n savor it like a cookie\\n\\n\\n\\n\\n\\nMy thoughts are like the snow on high\\n\\nMy thoughts are like the sunshine, flue\\n\\n\\n\\nWhat do you think, dear little one\\n\\nIs't it really funny that cuckoo\\n\\n\\n\\nIs humming as it goes about\\n\\nAt such a very sad delay\\n\\n\\n\\nThe sun at length sets out again\\n\\nAnd sets in his full career\\n\\n\\n\\nThe dews are falling from his brow\\n\\nThe stars of morning now are now\\n\\n\\n\\nWhose eyes were like the light of some\\n\\nEagle's, whose high majestic kuchen\\n\\n\\n\\nWent to and fro through the still woods. The\\n\\nFairy world is far from any sim\\n\\n\\n\\nWander 'd beyond the ocean's bound again\\n\\nA dream that never dies en\\n\\n\\n\\nWith the sound of my singing. Come, my lover, hear\\n\\n\\n\\nMy lover, come, for I am all alone, my\\n\\n\\n\\nIn the woods, O my love! where the sweet cuckoo\\n\\n\\n\\nThe moon and the sun are at the doorway\\n\\n\\n\\nAnd the stars are on the windowpanes glowering\\n\\n\\n\\nThen she sat down at her window and looked wistfully\\n\\n\\n\\n\\n\\nAnd in her eyes looked at me, and in her mouth she said : Ah, love! how you langer\\n\\n\\n\\n\\n\\nHear me, love! Ah, love! Ah, love! Ah, love! so\\n\\nThey were lonely and tired\\n\\n That is when the shot was fired\\n\\n\\n\\n\\n\\nAnd, from the walls, with horror groan\\n\\nThe astonished crowd descry 'd : o'erhead\\n\\n\\n\\nTo his dark chamber he withdrew\\n\\nThe woe that he will seek his bed\\n\\n\\n\\nHe comes, he comes, he comes! for shame\\n\\nHe comes, to bring the shame his maim\\n\\n\\n\\nHer eyes are sad ; her voice is sweet\\n\\nThe little bird has flown with meek\\n\\n\\n\\nAnd will sing me her sweet song again\\n\\nOh, what shall we do? my merrygoround\\n\\n\\n\\nWhat shall we do, my soul beguiled\\n\\nThen, said the voice, My God, in whom we blest\\n\\n\\n\\nIs love that never dies. Oh, love and life\\n\\nThat evermore may wife\\n\\n\\n\\nOur hearts shall ever meet. When shall a man be wife\\n\\n\\n\\n\\n\\nIf thou didst leave his home and kindred, would he die\\n\\nSo sweet the voice is heard, and hight\\n\\n\\n\\n\\n\\nHis mother's face, and all his hair of white? Ah! he hight\\n\\nIt was the same white\\n\\nThat made that holy sign\\n\\nTo say : Thou must not weep, she whispered, and he cast\\n\\n\\n\\n\\n\\nNo word! Oh, God! but, what a woman's love has come to me, he told\\n\\nForgive and take it spight\\n\\n\\n\\n\\n\\nThou must take life at this\\n\\nMy heart aches just thinking of you\\n\\n But now I am left feeling blue\\n\\n\\n\\n\\n\\nAnd when I have given my hand\\n\\nTo such a loving, smiling grande\\n\\n\\n\\nHer bosom is a white and bare\\n\\nHer voice is sweet and sweet and braid\\n\\n\\n\\nI can't abide alone alone today\\n\\nBut find my mother's voice astray\\n\\n\\n\\nFondly I have sought to meet thee there\\n\\nBut in the dark and dark of deere\\n\\n\\n\\nMy spirit has been burning high\\n\\nNo words or songs to say the fay\\n\\n\\n\\nHe knew her as I know the stars\\n\\nAnd felt her breath and breathe and stars's\\n\\n\\n\\nHe touched me lightly on the arm\\n\\nAnd made a spell at last to cast\\n\\n\\n\\nI knew thy voice of tender love astray\\n\\n\\n\\nI knew thy presence but I thought of none\\n\\n\\n\\nNor of aught save thy pale and mournful woe\\n\\n\\n\\nI knew the love the starlit sea adieu\\n\\n\\n\\nI knew thy love the moonbright night\\n\\n\\n\\nI knew the joys the sea of love not quite\\n\\n\\n\\n\\n\\nFor he hath lost a star by night alone\\n\\nI love another star\\n\\n\\n\\nI knew the man who dares to die and grieve\\n\\n\\n\\nI knew him whom, but he knew not why, what his gloam\\n\\n\\n\\n\\n\\nI knew the truth in that he had lost with him\\n\\nI thought of love that dies for fain\\n\\n\\n\\n\\n\\n\\n\\nThey were lonely and tired\\n\\n That is when the shot was fired\\n\\n\\n\\n\\n\\nWith her a little flower of gold\\n\\nIn the garden by the hine\\n\\n\\n\\nAnd the wind was still, in its sleep\\n\\nAnd the grass was green and white\\n\\n\\n\\nAnd there is nothing more I 'll say\\n\\nThan to keep you safe, and clear\\n\\n\\n\\nFor all their dangers have been shown\\n\\nOh, my dear, it's in vain to callin\\n\\n\\n\\nAll these to make my heart more free\\n\\nI would not ask you more or any\\n\\n\\n\\nThat a poor boy to this poor land\\n\\nShould be our refuge, if not clark\\n\\n\\n\\nTo my sweet, sweet, sweet home again\\n\\nOh, that is the way he led my yesterdays\\n\\n\\n\\nAnd he did it when I had my fill\\n\\nAnd I do not want my fill again\\n\\n\\n\\nBut to give my love the kiss now I do\\n\\n\\n\\nSo sweetly ; and so beautiful, that a pae\\n\\n\\n\\nBut, when his face shone like the gold of kauk\\n\\n\\n\\n\\n\\nAnd he was white upon the water's rim\\n\\n's edge, his cheeks were wan\\n\\nWrought with his blood to her lip! and rind\\n\\n\\n\\n\\n\\nThe long green grass of his body was so bare\\n\\nThe wind rose and was so wet with wintry marigold\\n\\n\\n\\n\\n\\nThat he had turned and faded as the pheasant\\n\\nWhen at his feet\\n\\nLife, believe, is not a dream\\n\\n You can not wake up just with a scream\\n\\n\\n\\n\\n\\nHe would not ask why so many\\n\\nSick men have loved her well at v. a\\n\\n\\n\\nHe would not ask why so many\\n\\nDwellers in a city or a wood\\n\\n\\n\\nHis head was black and heavy with pain\\n\\nAt which such grief the maiden would fain\\n\\n\\n\\nâ€˜ For that which hath a mighty weight\\n\\nâ€˜ To him the goddess can be wy\\n\\n\\n\\nâ€˜ He who ofttimes would with pity weigh\\n\\nâ€˜ My love and trust, his mercy, or\\n\\n\\n\\nI am the wife of one of you\\n\\nAnd you for one of my kin is jaguar\\n\\n\\n\\nWith the old words the olden words I speak\\n\\nAll in the olden time, old kite\\n\\n\\n\\nWoe to you that you no longer be\\n\\nYour mother is old and shabby\\n\\n\\n\\n\\n\\nThe King, the king the king, the king and man all women\\n\\nAll in the whirlpool\\n\\n\\n\\nFor him, the king is dead, and I am he, the flinty\\n\\n\\n\\nNow, for him, the world is wide as rind\\n\\n\\n\\nShall I can speak, and there goes he he, the unconfined\\n\\n\\n\\n\\n\\nShall come and follow him forlorn and shod\\n\\nTomorrow is too high and halden\\n\\n\\n\\n\\n\\nTo be glad and glad\\n\\nThe taste of marmelade is better with you\\n\\n You light up my day when you lace your shoe\\n\\n\\n\\n\\n\\nAnd then a little while I live\\n\\nYou shall not move me from my thrive\\n\\n\\n\\nWhen the wind sings, and the leaves sing\\n\\nAnd the swallows sing and the houseless\\n\\n\\n\\nMy darling, let us all remain\\n\\nAnd rest, alone upon the wall\\n\\n\\n\\nFor the great heart that never part\\n\\nFor the fair thought that never pied\\n\\n\\n\\nWe have seen those little things\\n\\nWe have seen them on the green and glooms\\n\\n\\n\\nAnd there are many who have stood\\n\\nAnd watched for some sweet hour of kann\\n\\n\\n\\nAnd dreamed it was the night they were wed\\n\\nAnd some had lost their souls, and prayed\\n\\n\\n\\nThen all things seemed light and fair in sight\\n\\n\\n\\nAnd in the air a white sunbeam shone\\n\\n\\n\\nAnd her heart beat red and sweet and fair and kind\\n\\n\\n\\nThat made her feel so strange and young\\n\\n\\n\\nThe wind was in her hair and the sky was kind\\n\\n\\n\\n\\n\\nOf the young moon and the long night was in her eye\\n\\nAnd she smiled, but the young moon outshine\\n\\n\\n\\n\\n\\nAnd her eyes were white, in her eyes of light, in her eglantine\\n\\n\\n\\n\\n\\nThe day was in her eyes so strange face so strange and bright\\n\\nThe moon was in her eye of chite\\n\\n\\n\\n\\n\\nAs though it were a dream, she saw and loved\\n\\nLife, believe, is not a dream\\n\\n You can not wake up just with a scream\\n\\n\\n\\n\\n\\nTo my dear ones where they dwell\\n\\nThe sun will come at evening broun\\n\\n\\n\\nAnd the wild bees will sing in pride\\n\\nWhen my dear ones go, all alone\\n\\n\\n\\nSuspended in the sun to rest\\n\\nNo more their song be uttered fjord\\n\\n\\n\\nBut the wild birds sing still around\\n\\nMy dear little one, so far astray\\n\\n\\n\\nOh, 't is my dream that here I end\\n\\nAnd thus to thee I close my book serene\\n\\n\\n\\nHe cried, 'If thou but canst read, I say\\n\\n'This book thou woof shalt read my bayside\\n\\n\\n\\nAnd thou shalt see the little maid who sleeps\\n\\nThe very moon, her only snares\\n\\n\\n\\nTo that old woman, who was fair to see\\n\\n\\n\\n'I would that I had died that day I was there, in bate\\n\\n\\n\\n\\n\\nWhere I were like the young moon, she murmured, in her eyes\\n\\n'O, my dear old sister, who hath eyes\\n\\n\\n\\n\\n\\nI wove my life out of thine ; she loved all stars she lived for star\\n\\n\\n\\nIn a strange land ; in that land in that strange chandelier\\n\\n\\n\\n\\n\\nAnd thus, and 'neath some other, came, a star shall be so lovelighter\\n\\nMy life for ever lain\\n\\n\\n\\nThe last and brightest\""
      ]
     },
     "execution_count": 9,
     "metadata": {},
     "output_type": "execute_result"
    }
   ],
   "source": [
    "\"\\n\\n\".join(test[\"text\"])"
   ]
  },
  {
   "cell_type": "markdown",
   "id": "hYowtxjJWNm4",
   "metadata": {
    "id": "hYowtxjJWNm4"
   },
   "source": []
  },
  {
   "cell_type": "code",
   "execution_count": null,
   "id": "b8ed007b",
   "metadata": {
    "colab": {
     "base_uri": "https://localhost:8080/"
    },
    "executionInfo": {
     "elapsed": 2134,
     "status": "ok",
     "timestamp": 1671616159319,
     "user": {
      "displayName": "Bastien Bernath",
      "userId": "03764670422689916410"
     },
     "user_tz": -60
    },
    "id": "b8ed007b",
    "outputId": "1a69c774-ae3f-4cd2-bfd3-ee3787729c88"
   },
   "outputs": [
    {
     "name": "stderr",
     "output_type": "stream",
     "text": [
      " 13%|█▎        | 2/15 [00:00<00:02,  5.86it/s]"
     ]
    },
    {
     "name": "stdout",
     "output_type": "stream",
     "text": [
      "tensor(64139.1680, device='cuda:0')\n",
      "tensor(116362.6562, device='cuda:0')\n"
     ]
    },
    {
     "name": "stderr",
     "output_type": "stream",
     "text": [
      " 27%|██▋       | 4/15 [00:00<00:01,  7.04it/s]"
     ]
    },
    {
     "name": "stdout",
     "output_type": "stream",
     "text": [
      "tensor(81993.8672, device='cuda:0')\n",
      "tensor(98064.5781, device='cuda:0')\n"
     ]
    },
    {
     "name": "stderr",
     "output_type": "stream",
     "text": [
      " 40%|████      | 6/15 [00:00<00:01,  8.14it/s]"
     ]
    },
    {
     "name": "stdout",
     "output_type": "stream",
     "text": [
      "tensor(85111.4609, device='cuda:0')\n",
      "tensor(87031.9062, device='cuda:0')\n"
     ]
    },
    {
     "name": "stderr",
     "output_type": "stream",
     "text": [
      " 53%|█████▎    | 8/15 [00:01<00:00,  8.67it/s]"
     ]
    },
    {
     "name": "stdout",
     "output_type": "stream",
     "text": [
      "tensor(78973.8203, device='cuda:0')\n",
      "tensor(78538.9453, device='cuda:0')\n"
     ]
    },
    {
     "name": "stderr",
     "output_type": "stream",
     "text": [
      " 67%|██████▋   | 10/15 [00:01<00:00,  7.75it/s]"
     ]
    },
    {
     "name": "stdout",
     "output_type": "stream",
     "text": [
      "tensor(79038.0156, device='cuda:0')\n",
      "tensor(76998.8594, device='cuda:0')\n"
     ]
    },
    {
     "name": "stderr",
     "output_type": "stream",
     "text": [
      " 80%|████████  | 12/15 [00:01<00:00,  8.21it/s]"
     ]
    },
    {
     "name": "stdout",
     "output_type": "stream",
     "text": [
      "tensor(85338.9609, device='cuda:0')\n",
      "tensor(82635.6875, device='cuda:0')\n"
     ]
    },
    {
     "name": "stderr",
     "output_type": "stream",
     "text": [
      " 93%|█████████▎| 14/15 [00:01<00:00,  7.70it/s]"
     ]
    },
    {
     "name": "stdout",
     "output_type": "stream",
     "text": [
      "tensor(89932.8281, device='cuda:0')\n",
      "tensor(86613.1094, device='cuda:0')\n"
     ]
    },
    {
     "name": "stderr",
     "output_type": "stream",
     "text": [
      "\n"
     ]
    }
   ],
   "source": [
    "import torch\n",
    "from tqdm import tqdm\n",
    "\n",
    "max_length = model.config.n_positions\n",
    "stride = 1024\n",
    "seq_len = encodings.input_ids.size(1)\n",
    "\n",
    "nlls = []\n",
    "prev_end_loc = 0\n",
    "for begin_loc in tqdm(range(0, seq_len, stride)):\n",
    "    end_loc = min(begin_loc + max_length, seq_len)\n",
    "    trg_len = end_loc - prev_end_loc  # may be different from stride on last loop\n",
    "    input_ids = encodings.input_ids[:, begin_loc:end_loc].to(device)\n",
    "    target_ids = input_ids.clone()\n",
    "    target_ids[:, :-trg_len] = -100\n",
    "\n",
    "    with torch.no_grad():\n",
    "        outputs = model(input_ids, labels=target_ids)\n",
    "\n",
    "        # loss is calculated using CrossEntropyLoss which averages over input tokens.\n",
    "        # Multiply it with trg_len to get the summation instead of average.\n",
    "        # We will take average over all the tokens to get the true average\n",
    "        # in the last step of this example.\n",
    "        neg_log_likelihood = outputs.loss * trg_len\n",
    "\n",
    "    nlls.append(neg_log_likelihood)\n",
    "\n",
    "    prev_end_loc = end_loc\n",
    "    if end_loc == seq_len:\n",
    "        break\n",
    "    print(torch.exp(torch.stack(nlls).sum() / end_loc))\n",
    "\n",
    "ppl = torch.exp(torch.stack(nlls).sum() / end_loc)"
   ]
  },
  {
   "cell_type": "code",
   "execution_count": null,
   "id": "o54sHniN0J-s",
   "metadata": {
    "colab": {
     "base_uri": "https://localhost:8080/"
    },
    "executionInfo": {
     "elapsed": 6,
     "status": "ok",
     "timestamp": 1671616133628,
     "user": {
      "displayName": "Bastien Bernath",
      "userId": "03764670422689916410"
     },
     "user_tz": -60
    },
    "id": "o54sHniN0J-s",
    "outputId": "c29b4d78-3c51-4438-f932-0b7fa9da87dd"
   },
   "outputs": [
    {
     "data": {
      "text/plain": [
       "tensor(84486.5000, device='cuda:0')"
      ]
     },
     "execution_count": 11,
     "metadata": {},
     "output_type": "execute_result"
    }
   ],
   "source": [
    "ppl"
   ]
  },
  {
   "cell_type": "code",
   "execution_count": null,
   "id": "lt4yhezUD5ZI",
   "metadata": {
    "colab": {
     "base_uri": "https://localhost:8080/"
    },
    "executionInfo": {
     "elapsed": 400,
     "status": "ok",
     "timestamp": 1671615026464,
     "user": {
      "displayName": "Bastien Bernath",
      "userId": "03764670422689916410"
     },
     "user_tz": -60
    },
    "id": "lt4yhezUD5ZI",
    "outputId": "62093db6-8bac-4259-d374-79d0f0ea2738"
   },
   "outputs": [
    {
     "data": {
      "text/plain": [
       "1024"
      ]
     },
     "execution_count": 9,
     "metadata": {},
     "output_type": "execute_result"
    }
   ],
   "source": [
    "max_length"
   ]
  }
 ],
 "metadata": {
  "accelerator": "GPU",
  "colab": {
   "provenance": []
  },
  "gpuClass": "standard",
  "kernelspec": {
   "display_name": "Python 3 (ipykernel)",
   "language": "python",
   "name": "python3"
  },
  "language_info": {
   "codemirror_mode": {
    "name": "ipython",
    "version": 3
   },
   "file_extension": ".py",
   "mimetype": "text/x-python",
   "name": "python",
   "nbconvert_exporter": "python",
   "pygments_lexer": "ipython3",
   "version": "3.8.15"
  },
  "widgets": {
   "application/vnd.jupyter.widget-state+json": {
    "0a5428e30daa42d7b636f9f83beef0bc": {
     "model_module": "@jupyter-widgets/controls",
     "model_module_version": "1.5.0",
     "model_name": "HTMLModel",
     "state": {
      "_dom_classes": [],
      "_model_module": "@jupyter-widgets/controls",
      "_model_module_version": "1.5.0",
      "_model_name": "HTMLModel",
      "_view_count": null,
      "_view_module": "@jupyter-widgets/controls",
      "_view_module_version": "1.5.0",
      "_view_name": "HTMLView",
      "description": "",
      "description_tooltip": null,
      "layout": "IPY_MODEL_5389bdcea8e24ba3a1e7f5f6708f6c3c",
      "placeholder": "​",
      "style": "IPY_MODEL_f740b9f3d23d4123b037c253f1df24c5",
      "value": "Downloading: 100%"
     }
    },
    "111425a7cdc444dcb6452411e4d9181f": {
     "model_module": "@jupyter-widgets/controls",
     "model_module_version": "1.5.0",
     "model_name": "FloatProgressModel",
     "state": {
      "_dom_classes": [],
      "_model_module": "@jupyter-widgets/controls",
      "_model_module_version": "1.5.0",
      "_model_name": "FloatProgressModel",
      "_view_count": null,
      "_view_module": "@jupyter-widgets/controls",
      "_view_module_version": "1.5.0",
      "_view_name": "ProgressView",
      "bar_style": "success",
      "description": "",
      "description_tooltip": null,
      "layout": "IPY_MODEL_42947f1afc194c6f8a6a541bd16230fb",
      "max": 1042301,
      "min": 0,
      "orientation": "horizontal",
      "style": "IPY_MODEL_8f504075070940649d086012cda45c1b",
      "value": 1042301
     }
    },
    "1877f967768e40418f32de8206e75471": {
     "model_module": "@jupyter-widgets/base",
     "model_module_version": "1.2.0",
     "model_name": "LayoutModel",
     "state": {
      "_model_module": "@jupyter-widgets/base",
      "_model_module_version": "1.2.0",
      "_model_name": "LayoutModel",
      "_view_count": null,
      "_view_module": "@jupyter-widgets/base",
      "_view_module_version": "1.2.0",
      "_view_name": "LayoutView",
      "align_content": null,
      "align_items": null,
      "align_self": null,
      "border": null,
      "bottom": null,
      "display": null,
      "flex": null,
      "flex_flow": null,
      "grid_area": null,
      "grid_auto_columns": null,
      "grid_auto_flow": null,
      "grid_auto_rows": null,
      "grid_column": null,
      "grid_gap": null,
      "grid_row": null,
      "grid_template_areas": null,
      "grid_template_columns": null,
      "grid_template_rows": null,
      "height": null,
      "justify_content": null,
      "justify_items": null,
      "left": null,
      "margin": null,
      "max_height": null,
      "max_width": null,
      "min_height": null,
      "min_width": null,
      "object_fit": null,
      "object_position": null,
      "order": null,
      "overflow": null,
      "overflow_x": null,
      "overflow_y": null,
      "padding": null,
      "right": null,
      "top": null,
      "visibility": null,
      "width": null
     }
    },
    "18d99103acb64180b3c39d2ab623bf32": {
     "model_module": "@jupyter-widgets/base",
     "model_module_version": "1.2.0",
     "model_name": "LayoutModel",
     "state": {
      "_model_module": "@jupyter-widgets/base",
      "_model_module_version": "1.2.0",
      "_model_name": "LayoutModel",
      "_view_count": null,
      "_view_module": "@jupyter-widgets/base",
      "_view_module_version": "1.2.0",
      "_view_name": "LayoutView",
      "align_content": null,
      "align_items": null,
      "align_self": null,
      "border": null,
      "bottom": null,
      "display": null,
      "flex": null,
      "flex_flow": null,
      "grid_area": null,
      "grid_auto_columns": null,
      "grid_auto_flow": null,
      "grid_auto_rows": null,
      "grid_column": null,
      "grid_gap": null,
      "grid_row": null,
      "grid_template_areas": null,
      "grid_template_columns": null,
      "grid_template_rows": null,
      "height": null,
      "justify_content": null,
      "justify_items": null,
      "left": null,
      "margin": null,
      "max_height": null,
      "max_width": null,
      "min_height": null,
      "min_width": null,
      "object_fit": null,
      "object_position": null,
      "order": null,
      "overflow": null,
      "overflow_x": null,
      "overflow_y": null,
      "padding": null,
      "right": null,
      "top": null,
      "visibility": null,
      "width": null
     }
    },
    "1f81a4a9152c44c393390dab0b6f157e": {
     "model_module": "@jupyter-widgets/controls",
     "model_module_version": "1.5.0",
     "model_name": "HTMLModel",
     "state": {
      "_dom_classes": [],
      "_model_module": "@jupyter-widgets/controls",
      "_model_module_version": "1.5.0",
      "_model_name": "HTMLModel",
      "_view_count": null,
      "_view_module": "@jupyter-widgets/controls",
      "_view_module_version": "1.5.0",
      "_view_name": "HTMLView",
      "description": "",
      "description_tooltip": null,
      "layout": "IPY_MODEL_c58b1a4b7a5f4d1d82c0c0da48fc7f27",
      "placeholder": "​",
      "style": "IPY_MODEL_3855dbf0ac5146feb64ec69330acc58b",
      "value": "Downloading: 100%"
     }
    },
    "276fe4e3772d4807b0f33cf4529c57ec": {
     "model_module": "@jupyter-widgets/controls",
     "model_module_version": "1.5.0",
     "model_name": "ProgressStyleModel",
     "state": {
      "_model_module": "@jupyter-widgets/controls",
      "_model_module_version": "1.5.0",
      "_model_name": "ProgressStyleModel",
      "_view_count": null,
      "_view_module": "@jupyter-widgets/base",
      "_view_module_version": "1.2.0",
      "_view_name": "StyleView",
      "bar_color": null,
      "description_width": ""
     }
    },
    "31db786b87d14d42be2df987ec8f5ed2": {
     "model_module": "@jupyter-widgets/base",
     "model_module_version": "1.2.0",
     "model_name": "LayoutModel",
     "state": {
      "_model_module": "@jupyter-widgets/base",
      "_model_module_version": "1.2.0",
      "_model_name": "LayoutModel",
      "_view_count": null,
      "_view_module": "@jupyter-widgets/base",
      "_view_module_version": "1.2.0",
      "_view_name": "LayoutView",
      "align_content": null,
      "align_items": null,
      "align_self": null,
      "border": null,
      "bottom": null,
      "display": null,
      "flex": null,
      "flex_flow": null,
      "grid_area": null,
      "grid_auto_columns": null,
      "grid_auto_flow": null,
      "grid_auto_rows": null,
      "grid_column": null,
      "grid_gap": null,
      "grid_row": null,
      "grid_template_areas": null,
      "grid_template_columns": null,
      "grid_template_rows": null,
      "height": null,
      "justify_content": null,
      "justify_items": null,
      "left": null,
      "margin": null,
      "max_height": null,
      "max_width": null,
      "min_height": null,
      "min_width": null,
      "object_fit": null,
      "object_position": null,
      "order": null,
      "overflow": null,
      "overflow_x": null,
      "overflow_y": null,
      "padding": null,
      "right": null,
      "top": null,
      "visibility": null,
      "width": null
     }
    },
    "34b07a0f76f545e190f632aab7f23f09": {
     "model_module": "@jupyter-widgets/controls",
     "model_module_version": "1.5.0",
     "model_name": "ProgressStyleModel",
     "state": {
      "_model_module": "@jupyter-widgets/controls",
      "_model_module_version": "1.5.0",
      "_model_name": "ProgressStyleModel",
      "_view_count": null,
      "_view_module": "@jupyter-widgets/base",
      "_view_module_version": "1.2.0",
      "_view_name": "StyleView",
      "bar_color": null,
      "description_width": ""
     }
    },
    "3855dbf0ac5146feb64ec69330acc58b": {
     "model_module": "@jupyter-widgets/controls",
     "model_module_version": "1.5.0",
     "model_name": "DescriptionStyleModel",
     "state": {
      "_model_module": "@jupyter-widgets/controls",
      "_model_module_version": "1.5.0",
      "_model_name": "DescriptionStyleModel",
      "_view_count": null,
      "_view_module": "@jupyter-widgets/base",
      "_view_module_version": "1.2.0",
      "_view_name": "StyleView",
      "description_width": ""
     }
    },
    "396dbe03a88443e291e1e094492fad23": {
     "model_module": "@jupyter-widgets/controls",
     "model_module_version": "1.5.0",
     "model_name": "HBoxModel",
     "state": {
      "_dom_classes": [],
      "_model_module": "@jupyter-widgets/controls",
      "_model_module_version": "1.5.0",
      "_model_name": "HBoxModel",
      "_view_count": null,
      "_view_module": "@jupyter-widgets/controls",
      "_view_module_version": "1.5.0",
      "_view_name": "HBoxView",
      "box_style": "",
      "children": [
       "IPY_MODEL_1f81a4a9152c44c393390dab0b6f157e",
       "IPY_MODEL_f572eaede7734513b064511d46ea6aa5",
       "IPY_MODEL_5ae335a7c805409e8247fd6ccceaf137"
      ],
      "layout": "IPY_MODEL_b4e51a8abc88466499672bf5113be508"
     }
    },
    "42947f1afc194c6f8a6a541bd16230fb": {
     "model_module": "@jupyter-widgets/base",
     "model_module_version": "1.2.0",
     "model_name": "LayoutModel",
     "state": {
      "_model_module": "@jupyter-widgets/base",
      "_model_module_version": "1.2.0",
      "_model_name": "LayoutModel",
      "_view_count": null,
      "_view_module": "@jupyter-widgets/base",
      "_view_module_version": "1.2.0",
      "_view_name": "LayoutView",
      "align_content": null,
      "align_items": null,
      "align_self": null,
      "border": null,
      "bottom": null,
      "display": null,
      "flex": null,
      "flex_flow": null,
      "grid_area": null,
      "grid_auto_columns": null,
      "grid_auto_flow": null,
      "grid_auto_rows": null,
      "grid_column": null,
      "grid_gap": null,
      "grid_row": null,
      "grid_template_areas": null,
      "grid_template_columns": null,
      "grid_template_rows": null,
      "height": null,
      "justify_content": null,
      "justify_items": null,
      "left": null,
      "margin": null,
      "max_height": null,
      "max_width": null,
      "min_height": null,
      "min_width": null,
      "object_fit": null,
      "object_position": null,
      "order": null,
      "overflow": null,
      "overflow_x": null,
      "overflow_y": null,
      "padding": null,
      "right": null,
      "top": null,
      "visibility": null,
      "width": null
     }
    },
    "5389bdcea8e24ba3a1e7f5f6708f6c3c": {
     "model_module": "@jupyter-widgets/base",
     "model_module_version": "1.2.0",
     "model_name": "LayoutModel",
     "state": {
      "_model_module": "@jupyter-widgets/base",
      "_model_module_version": "1.2.0",
      "_model_name": "LayoutModel",
      "_view_count": null,
      "_view_module": "@jupyter-widgets/base",
      "_view_module_version": "1.2.0",
      "_view_name": "LayoutView",
      "align_content": null,
      "align_items": null,
      "align_self": null,
      "border": null,
      "bottom": null,
      "display": null,
      "flex": null,
      "flex_flow": null,
      "grid_area": null,
      "grid_auto_columns": null,
      "grid_auto_flow": null,
      "grid_auto_rows": null,
      "grid_column": null,
      "grid_gap": null,
      "grid_row": null,
      "grid_template_areas": null,
      "grid_template_columns": null,
      "grid_template_rows": null,
      "height": null,
      "justify_content": null,
      "justify_items": null,
      "left": null,
      "margin": null,
      "max_height": null,
      "max_width": null,
      "min_height": null,
      "min_width": null,
      "object_fit": null,
      "object_position": null,
      "order": null,
      "overflow": null,
      "overflow_x": null,
      "overflow_y": null,
      "padding": null,
      "right": null,
      "top": null,
      "visibility": null,
      "width": null
     }
    },
    "5ae335a7c805409e8247fd6ccceaf137": {
     "model_module": "@jupyter-widgets/controls",
     "model_module_version": "1.5.0",
     "model_name": "HTMLModel",
     "state": {
      "_dom_classes": [],
      "_model_module": "@jupyter-widgets/controls",
      "_model_module_version": "1.5.0",
      "_model_name": "HTMLModel",
      "_view_count": null,
      "_view_module": "@jupyter-widgets/controls",
      "_view_module_version": "1.5.0",
      "_view_name": "HTMLView",
      "description": "",
      "description_tooltip": null,
      "layout": "IPY_MODEL_bdb76f99c4144172aaa9bebc5f5082ae",
      "placeholder": "​",
      "style": "IPY_MODEL_ec7a1c52007844bc93e242b46a79c39e",
      "value": " 456k/456k [00:01&lt;00:00, 457kB/s]"
     }
    },
    "5ffa8b66cd4d40dea7c609760bfa6061": {
     "model_module": "@jupyter-widgets/controls",
     "model_module_version": "1.5.0",
     "model_name": "FloatProgressModel",
     "state": {
      "_dom_classes": [],
      "_model_module": "@jupyter-widgets/controls",
      "_model_module_version": "1.5.0",
      "_model_name": "FloatProgressModel",
      "_view_count": null,
      "_view_module": "@jupyter-widgets/controls",
      "_view_module_version": "1.5.0",
      "_view_name": "ProgressView",
      "bar_style": "success",
      "description": "",
      "description_tooltip": null,
      "layout": "IPY_MODEL_6c10bc149c8944dfb34728dd637e607a",
      "max": 665,
      "min": 0,
      "orientation": "horizontal",
      "style": "IPY_MODEL_276fe4e3772d4807b0f33cf4529c57ec",
      "value": 665
     }
    },
    "6c10bc149c8944dfb34728dd637e607a": {
     "model_module": "@jupyter-widgets/base",
     "model_module_version": "1.2.0",
     "model_name": "LayoutModel",
     "state": {
      "_model_module": "@jupyter-widgets/base",
      "_model_module_version": "1.2.0",
      "_model_name": "LayoutModel",
      "_view_count": null,
      "_view_module": "@jupyter-widgets/base",
      "_view_module_version": "1.2.0",
      "_view_name": "LayoutView",
      "align_content": null,
      "align_items": null,
      "align_self": null,
      "border": null,
      "bottom": null,
      "display": null,
      "flex": null,
      "flex_flow": null,
      "grid_area": null,
      "grid_auto_columns": null,
      "grid_auto_flow": null,
      "grid_auto_rows": null,
      "grid_column": null,
      "grid_gap": null,
      "grid_row": null,
      "grid_template_areas": null,
      "grid_template_columns": null,
      "grid_template_rows": null,
      "height": null,
      "justify_content": null,
      "justify_items": null,
      "left": null,
      "margin": null,
      "max_height": null,
      "max_width": null,
      "min_height": null,
      "min_width": null,
      "object_fit": null,
      "object_position": null,
      "order": null,
      "overflow": null,
      "overflow_x": null,
      "overflow_y": null,
      "padding": null,
      "right": null,
      "top": null,
      "visibility": null,
      "width": null
     }
    },
    "6d88663bda494e2896e09b9bab31b0e5": {
     "model_module": "@jupyter-widgets/controls",
     "model_module_version": "1.5.0",
     "model_name": "HTMLModel",
     "state": {
      "_dom_classes": [],
      "_model_module": "@jupyter-widgets/controls",
      "_model_module_version": "1.5.0",
      "_model_name": "HTMLModel",
      "_view_count": null,
      "_view_module": "@jupyter-widgets/controls",
      "_view_module_version": "1.5.0",
      "_view_name": "HTMLView",
      "description": "",
      "description_tooltip": null,
      "layout": "IPY_MODEL_18d99103acb64180b3c39d2ab623bf32",
      "placeholder": "​",
      "style": "IPY_MODEL_dcad8b89d16643729a44109fd14d0b4b",
      "value": " 1.04M/1.04M [00:01&lt;00:00, 986kB/s]"
     }
    },
    "8f504075070940649d086012cda45c1b": {
     "model_module": "@jupyter-widgets/controls",
     "model_module_version": "1.5.0",
     "model_name": "ProgressStyleModel",
     "state": {
      "_model_module": "@jupyter-widgets/controls",
      "_model_module_version": "1.5.0",
      "_model_name": "ProgressStyleModel",
      "_view_count": null,
      "_view_module": "@jupyter-widgets/base",
      "_view_module_version": "1.2.0",
      "_view_name": "StyleView",
      "bar_color": null,
      "description_width": ""
     }
    },
    "98e724e47c1f4fddb6fcdc3e98b309c2": {
     "model_module": "@jupyter-widgets/controls",
     "model_module_version": "1.5.0",
     "model_name": "HTMLModel",
     "state": {
      "_dom_classes": [],
      "_model_module": "@jupyter-widgets/controls",
      "_model_module_version": "1.5.0",
      "_model_name": "HTMLModel",
      "_view_count": null,
      "_view_module": "@jupyter-widgets/controls",
      "_view_module_version": "1.5.0",
      "_view_name": "HTMLView",
      "description": "",
      "description_tooltip": null,
      "layout": "IPY_MODEL_e2b01343540842719742908cfa1ebd48",
      "placeholder": "​",
      "style": "IPY_MODEL_f0a2c670028a45b99896a8e01b8a79db",
      "value": "Downloading: 100%"
     }
    },
    "9e38aceed1bb42dda4dc0f99c040a973": {
     "model_module": "@jupyter-widgets/controls",
     "model_module_version": "1.5.0",
     "model_name": "HBoxModel",
     "state": {
      "_dom_classes": [],
      "_model_module": "@jupyter-widgets/controls",
      "_model_module_version": "1.5.0",
      "_model_name": "HBoxModel",
      "_view_count": null,
      "_view_module": "@jupyter-widgets/controls",
      "_view_module_version": "1.5.0",
      "_view_name": "HBoxView",
      "box_style": "",
      "children": [
       "IPY_MODEL_0a5428e30daa42d7b636f9f83beef0bc",
       "IPY_MODEL_111425a7cdc444dcb6452411e4d9181f",
       "IPY_MODEL_6d88663bda494e2896e09b9bab31b0e5"
      ],
      "layout": "IPY_MODEL_31db786b87d14d42be2df987ec8f5ed2"
     }
    },
    "b4e51a8abc88466499672bf5113be508": {
     "model_module": "@jupyter-widgets/base",
     "model_module_version": "1.2.0",
     "model_name": "LayoutModel",
     "state": {
      "_model_module": "@jupyter-widgets/base",
      "_model_module_version": "1.2.0",
      "_model_name": "LayoutModel",
      "_view_count": null,
      "_view_module": "@jupyter-widgets/base",
      "_view_module_version": "1.2.0",
      "_view_name": "LayoutView",
      "align_content": null,
      "align_items": null,
      "align_self": null,
      "border": null,
      "bottom": null,
      "display": null,
      "flex": null,
      "flex_flow": null,
      "grid_area": null,
      "grid_auto_columns": null,
      "grid_auto_flow": null,
      "grid_auto_rows": null,
      "grid_column": null,
      "grid_gap": null,
      "grid_row": null,
      "grid_template_areas": null,
      "grid_template_columns": null,
      "grid_template_rows": null,
      "height": null,
      "justify_content": null,
      "justify_items": null,
      "left": null,
      "margin": null,
      "max_height": null,
      "max_width": null,
      "min_height": null,
      "min_width": null,
      "object_fit": null,
      "object_position": null,
      "order": null,
      "overflow": null,
      "overflow_x": null,
      "overflow_y": null,
      "padding": null,
      "right": null,
      "top": null,
      "visibility": null,
      "width": null
     }
    },
    "bdb76f99c4144172aaa9bebc5f5082ae": {
     "model_module": "@jupyter-widgets/base",
     "model_module_version": "1.2.0",
     "model_name": "LayoutModel",
     "state": {
      "_model_module": "@jupyter-widgets/base",
      "_model_module_version": "1.2.0",
      "_model_name": "LayoutModel",
      "_view_count": null,
      "_view_module": "@jupyter-widgets/base",
      "_view_module_version": "1.2.0",
      "_view_name": "LayoutView",
      "align_content": null,
      "align_items": null,
      "align_self": null,
      "border": null,
      "bottom": null,
      "display": null,
      "flex": null,
      "flex_flow": null,
      "grid_area": null,
      "grid_auto_columns": null,
      "grid_auto_flow": null,
      "grid_auto_rows": null,
      "grid_column": null,
      "grid_gap": null,
      "grid_row": null,
      "grid_template_areas": null,
      "grid_template_columns": null,
      "grid_template_rows": null,
      "height": null,
      "justify_content": null,
      "justify_items": null,
      "left": null,
      "margin": null,
      "max_height": null,
      "max_width": null,
      "min_height": null,
      "min_width": null,
      "object_fit": null,
      "object_position": null,
      "order": null,
      "overflow": null,
      "overflow_x": null,
      "overflow_y": null,
      "padding": null,
      "right": null,
      "top": null,
      "visibility": null,
      "width": null
     }
    },
    "c58b1a4b7a5f4d1d82c0c0da48fc7f27": {
     "model_module": "@jupyter-widgets/base",
     "model_module_version": "1.2.0",
     "model_name": "LayoutModel",
     "state": {
      "_model_module": "@jupyter-widgets/base",
      "_model_module_version": "1.2.0",
      "_model_name": "LayoutModel",
      "_view_count": null,
      "_view_module": "@jupyter-widgets/base",
      "_view_module_version": "1.2.0",
      "_view_name": "LayoutView",
      "align_content": null,
      "align_items": null,
      "align_self": null,
      "border": null,
      "bottom": null,
      "display": null,
      "flex": null,
      "flex_flow": null,
      "grid_area": null,
      "grid_auto_columns": null,
      "grid_auto_flow": null,
      "grid_auto_rows": null,
      "grid_column": null,
      "grid_gap": null,
      "grid_row": null,
      "grid_template_areas": null,
      "grid_template_columns": null,
      "grid_template_rows": null,
      "height": null,
      "justify_content": null,
      "justify_items": null,
      "left": null,
      "margin": null,
      "max_height": null,
      "max_width": null,
      "min_height": null,
      "min_width": null,
      "object_fit": null,
      "object_position": null,
      "order": null,
      "overflow": null,
      "overflow_x": null,
      "overflow_y": null,
      "padding": null,
      "right": null,
      "top": null,
      "visibility": null,
      "width": null
     }
    },
    "da898641677f44b3a7a703b6664df649": {
     "model_module": "@jupyter-widgets/base",
     "model_module_version": "1.2.0",
     "model_name": "LayoutModel",
     "state": {
      "_model_module": "@jupyter-widgets/base",
      "_model_module_version": "1.2.0",
      "_model_name": "LayoutModel",
      "_view_count": null,
      "_view_module": "@jupyter-widgets/base",
      "_view_module_version": "1.2.0",
      "_view_name": "LayoutView",
      "align_content": null,
      "align_items": null,
      "align_self": null,
      "border": null,
      "bottom": null,
      "display": null,
      "flex": null,
      "flex_flow": null,
      "grid_area": null,
      "grid_auto_columns": null,
      "grid_auto_flow": null,
      "grid_auto_rows": null,
      "grid_column": null,
      "grid_gap": null,
      "grid_row": null,
      "grid_template_areas": null,
      "grid_template_columns": null,
      "grid_template_rows": null,
      "height": null,
      "justify_content": null,
      "justify_items": null,
      "left": null,
      "margin": null,
      "max_height": null,
      "max_width": null,
      "min_height": null,
      "min_width": null,
      "object_fit": null,
      "object_position": null,
      "order": null,
      "overflow": null,
      "overflow_x": null,
      "overflow_y": null,
      "padding": null,
      "right": null,
      "top": null,
      "visibility": null,
      "width": null
     }
    },
    "dcad8b89d16643729a44109fd14d0b4b": {
     "model_module": "@jupyter-widgets/controls",
     "model_module_version": "1.5.0",
     "model_name": "DescriptionStyleModel",
     "state": {
      "_model_module": "@jupyter-widgets/controls",
      "_model_module_version": "1.5.0",
      "_model_name": "DescriptionStyleModel",
      "_view_count": null,
      "_view_module": "@jupyter-widgets/base",
      "_view_module_version": "1.2.0",
      "_view_name": "StyleView",
      "description_width": ""
     }
    },
    "e2b01343540842719742908cfa1ebd48": {
     "model_module": "@jupyter-widgets/base",
     "model_module_version": "1.2.0",
     "model_name": "LayoutModel",
     "state": {
      "_model_module": "@jupyter-widgets/base",
      "_model_module_version": "1.2.0",
      "_model_name": "LayoutModel",
      "_view_count": null,
      "_view_module": "@jupyter-widgets/base",
      "_view_module_version": "1.2.0",
      "_view_name": "LayoutView",
      "align_content": null,
      "align_items": null,
      "align_self": null,
      "border": null,
      "bottom": null,
      "display": null,
      "flex": null,
      "flex_flow": null,
      "grid_area": null,
      "grid_auto_columns": null,
      "grid_auto_flow": null,
      "grid_auto_rows": null,
      "grid_column": null,
      "grid_gap": null,
      "grid_row": null,
      "grid_template_areas": null,
      "grid_template_columns": null,
      "grid_template_rows": null,
      "height": null,
      "justify_content": null,
      "justify_items": null,
      "left": null,
      "margin": null,
      "max_height": null,
      "max_width": null,
      "min_height": null,
      "min_width": null,
      "object_fit": null,
      "object_position": null,
      "order": null,
      "overflow": null,
      "overflow_x": null,
      "overflow_y": null,
      "padding": null,
      "right": null,
      "top": null,
      "visibility": null,
      "width": null
     }
    },
    "eb5481486fc64dbca6e455bec7db40d9": {
     "model_module": "@jupyter-widgets/controls",
     "model_module_version": "1.5.0",
     "model_name": "HTMLModel",
     "state": {
      "_dom_classes": [],
      "_model_module": "@jupyter-widgets/controls",
      "_model_module_version": "1.5.0",
      "_model_name": "HTMLModel",
      "_view_count": null,
      "_view_module": "@jupyter-widgets/controls",
      "_view_module_version": "1.5.0",
      "_view_name": "HTMLView",
      "description": "",
      "description_tooltip": null,
      "layout": "IPY_MODEL_fff0b91407ac46209ddb190ce5290c4b",
      "placeholder": "​",
      "style": "IPY_MODEL_eefc8082907949348a1a737877cf386d",
      "value": " 665/665 [00:00&lt;00:00, 46.9kB/s]"
     }
    },
    "ec7a1c52007844bc93e242b46a79c39e": {
     "model_module": "@jupyter-widgets/controls",
     "model_module_version": "1.5.0",
     "model_name": "DescriptionStyleModel",
     "state": {
      "_model_module": "@jupyter-widgets/controls",
      "_model_module_version": "1.5.0",
      "_model_name": "DescriptionStyleModel",
      "_view_count": null,
      "_view_module": "@jupyter-widgets/base",
      "_view_module_version": "1.2.0",
      "_view_name": "StyleView",
      "description_width": ""
     }
    },
    "eefc8082907949348a1a737877cf386d": {
     "model_module": "@jupyter-widgets/controls",
     "model_module_version": "1.5.0",
     "model_name": "DescriptionStyleModel",
     "state": {
      "_model_module": "@jupyter-widgets/controls",
      "_model_module_version": "1.5.0",
      "_model_name": "DescriptionStyleModel",
      "_view_count": null,
      "_view_module": "@jupyter-widgets/base",
      "_view_module_version": "1.2.0",
      "_view_name": "StyleView",
      "description_width": ""
     }
    },
    "f0a2c670028a45b99896a8e01b8a79db": {
     "model_module": "@jupyter-widgets/controls",
     "model_module_version": "1.5.0",
     "model_name": "DescriptionStyleModel",
     "state": {
      "_model_module": "@jupyter-widgets/controls",
      "_model_module_version": "1.5.0",
      "_model_name": "DescriptionStyleModel",
      "_view_count": null,
      "_view_module": "@jupyter-widgets/base",
      "_view_module_version": "1.2.0",
      "_view_name": "StyleView",
      "description_width": ""
     }
    },
    "f1a8a21d5f2f4aeb9dd2ee1f793df4d6": {
     "model_module": "@jupyter-widgets/controls",
     "model_module_version": "1.5.0",
     "model_name": "HBoxModel",
     "state": {
      "_dom_classes": [],
      "_model_module": "@jupyter-widgets/controls",
      "_model_module_version": "1.5.0",
      "_model_name": "HBoxModel",
      "_view_count": null,
      "_view_module": "@jupyter-widgets/controls",
      "_view_module_version": "1.5.0",
      "_view_name": "HBoxView",
      "box_style": "",
      "children": [
       "IPY_MODEL_98e724e47c1f4fddb6fcdc3e98b309c2",
       "IPY_MODEL_5ffa8b66cd4d40dea7c609760bfa6061",
       "IPY_MODEL_eb5481486fc64dbca6e455bec7db40d9"
      ],
      "layout": "IPY_MODEL_da898641677f44b3a7a703b6664df649"
     }
    },
    "f572eaede7734513b064511d46ea6aa5": {
     "model_module": "@jupyter-widgets/controls",
     "model_module_version": "1.5.0",
     "model_name": "FloatProgressModel",
     "state": {
      "_dom_classes": [],
      "_model_module": "@jupyter-widgets/controls",
      "_model_module_version": "1.5.0",
      "_model_name": "FloatProgressModel",
      "_view_count": null,
      "_view_module": "@jupyter-widgets/controls",
      "_view_module_version": "1.5.0",
      "_view_name": "ProgressView",
      "bar_style": "success",
      "description": "",
      "description_tooltip": null,
      "layout": "IPY_MODEL_1877f967768e40418f32de8206e75471",
      "max": 456318,
      "min": 0,
      "orientation": "horizontal",
      "style": "IPY_MODEL_34b07a0f76f545e190f632aab7f23f09",
      "value": 456318
     }
    },
    "f740b9f3d23d4123b037c253f1df24c5": {
     "model_module": "@jupyter-widgets/controls",
     "model_module_version": "1.5.0",
     "model_name": "DescriptionStyleModel",
     "state": {
      "_model_module": "@jupyter-widgets/controls",
      "_model_module_version": "1.5.0",
      "_model_name": "DescriptionStyleModel",
      "_view_count": null,
      "_view_module": "@jupyter-widgets/base",
      "_view_module_version": "1.2.0",
      "_view_name": "StyleView",
      "description_width": ""
     }
    },
    "fff0b91407ac46209ddb190ce5290c4b": {
     "model_module": "@jupyter-widgets/base",
     "model_module_version": "1.2.0",
     "model_name": "LayoutModel",
     "state": {
      "_model_module": "@jupyter-widgets/base",
      "_model_module_version": "1.2.0",
      "_model_name": "LayoutModel",
      "_view_count": null,
      "_view_module": "@jupyter-widgets/base",
      "_view_module_version": "1.2.0",
      "_view_name": "LayoutView",
      "align_content": null,
      "align_items": null,
      "align_self": null,
      "border": null,
      "bottom": null,
      "display": null,
      "flex": null,
      "flex_flow": null,
      "grid_area": null,
      "grid_auto_columns": null,
      "grid_auto_flow": null,
      "grid_auto_rows": null,
      "grid_column": null,
      "grid_gap": null,
      "grid_row": null,
      "grid_template_areas": null,
      "grid_template_columns": null,
      "grid_template_rows": null,
      "height": null,
      "justify_content": null,
      "justify_items": null,
      "left": null,
      "margin": null,
      "max_height": null,
      "max_width": null,
      "min_height": null,
      "min_width": null,
      "object_fit": null,
      "object_position": null,
      "order": null,
      "overflow": null,
      "overflow_x": null,
      "overflow_y": null,
      "padding": null,
      "right": null,
      "top": null,
      "visibility": null,
      "width": null
     }
    }
   }
  }
 },
 "nbformat": 4,
 "nbformat_minor": 5
}
