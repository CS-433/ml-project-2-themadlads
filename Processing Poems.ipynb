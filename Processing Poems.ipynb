{
 "cells": [
  {
   "cell_type": "markdown",
   "id": "9429bd0e",
   "metadata": {},
   "source": [
    "This is a jupyter notebook that contains pipelines where we pass our data in order to clean it and shape it like we want"
   ]
  },
  {
   "cell_type": "code",
   "execution_count": 51,
   "id": "b8119f13",
   "metadata": {},
   "outputs": [],
   "source": [
    "import os\n",
    "import string"
   ]
  },
  {
   "cell_type": "code",
   "execution_count": 52,
   "id": "fb6e8680",
   "metadata": {},
   "outputs": [],
   "source": [
    "def is_good_rhyme_pattern(line):\n",
    "    line_ = line.split()\n",
    "    my_stack = []\n",
    "    if line_[0] == 'RHYME':\n",
    "        line_.pop(0)\n",
    "        for el in line_:\n",
    "            if el == '*':\n",
    "                if len(my_stack) == 0:\n",
    "                    return True\n",
    "                else:\n",
    "                    return False\n",
    "            if len(my_stack) == 0:\n",
    "                my_stack.append(el)\n",
    "            else:\n",
    "                stack_el = my_stack.pop()\n",
    "                if stack_el != el:\n",
    "                    return False\n",
    "        if len(my_stack) == 0:\n",
    "            return True\n",
    "        else:\n",
    "            return False"
   ]
  },
  {
   "cell_type": "code",
   "execution_count": 56,
   "id": "6887abeb",
   "metadata": {},
   "outputs": [
    {
     "name": "stdout",
     "output_type": "stream",
     "text": [
      "wyatt.txt\n",
      "goldsmith.txt\n",
      "smith.txt\n",
      "byron.txt\n",
      "turner.txt\n",
      "wordsworth.txt\n",
      "crosland.txt\n",
      "sidney.txt\n",
      "prior.txt\n",
      "finch.txt\n",
      "swift.txt\n",
      "housman.txt\n",
      "pope.txt\n",
      "spenser.txt\n",
      "coleridge.txt\n",
      "constable.txt\n",
      "milton.txt\n",
      "jonson.txt\n",
      "daniel.txt\n",
      "shelley.txt\n",
      "fletcher.txt\n",
      "drayton.txt\n",
      "chesterton.txt\n",
      "griffin.txt\n",
      "lovelace.txt\n",
      "lodge.txt\n",
      "brooke.txt\n",
      "shakespeare.txt\n",
      "dryden.txt\n",
      "thomas.txt\n",
      "more.txt\n",
      "kipling.txt\n"
     ]
    }
   ],
   "source": [
    "reading = False\n",
    "\n",
    "for filename in os.listdir(os.getcwd()):\n",
    "    if filename.endswith('.txt'):\n",
    "        with open(os.path.join(os.getcwd(), filename), 'r', encoding='ISO-8859-15') as f:\n",
    "            #text = f.read()\n",
    "            print(filename)\n",
    "            for line in f.readlines():\n",
    "                if line.startswith('RHYME'):\n",
    "                    if is_good_rhyme_pattern(line):\n",
    "                        reading = True\n",
    "                    else:\n",
    "                        reading = False\n",
    "                if reading:\n",
    "                    if len(line.split()) != 0 and not 'RHYME' in line:\n",
    "                        with open('english_raw_aa', 'a') as f2:\n",
    "                            if not line.startswith('TITLE') and not line.startswith('AUTHOR'):\n",
    "                                for char in string.digits:\n",
    "                                    if char in line:\n",
    "                                        line = line.replace(char, ' ')\n",
    "                                f2.write(line)\n",
    "                \n",
    "                \n",
    "                        \n",
    "                    \n",
    "                \n"
   ]
  },
  {
   "cell_type": "markdown",
   "id": "a1e41e99",
   "metadata": {},
   "source": [
    "This is for english poems preprocessing (TASK 2) :"
   ]
  },
  {
   "cell_type": "code",
   "execution_count": 3,
   "id": "a2626b69",
   "metadata": {},
   "outputs": [],
   "source": [
    "# 3.8 Mo (This has ABAB rhymes)\n",
    "with open('data_english/english_raw_aa_no_punct.txt', encoding='ansi') as f:\n",
    "    generation_to_test = f.readlines()"
   ]
  },
  {
   "cell_type": "code",
   "execution_count": 3,
   "id": "607adc97",
   "metadata": {},
   "outputs": [],
   "source": [
    "def split_in_list(poem, sep_elem):\n",
    "    paragraph = []\n",
    "    for verse in poem:\n",
    "        if verse == sep_elem:\n",
    "            yield paragraph\n",
    "            paragraph = []\n",
    "        else:\n",
    "            paragraph.append(verse)\n",
    "    yield paragraph"
   ]
  },
  {
   "cell_type": "code",
   "execution_count": 4,
   "id": "b6a4d4e9",
   "metadata": {},
   "outputs": [],
   "source": [
    "data = split_in_list(generation_to_test, '\\n')"
   ]
  },
  {
   "cell_type": "code",
   "execution_count": 5,
   "id": "c845fb87",
   "metadata": {},
   "outputs": [],
   "source": [
    "poem_split = []\n",
    "\n",
    "for elem in data:\n",
    "    if len(elem) % 2 == 0:\n",
    "        poem_split.append(elem)"
   ]
  },
  {
   "cell_type": "code",
   "execution_count": 6,
   "id": "748053f8",
   "metadata": {},
   "outputs": [],
   "source": [
    "flat_poem = [elem for sublist in poem_split for elem in sublist]"
   ]
  },
  {
   "cell_type": "code",
   "execution_count": 7,
   "id": "e3be8348",
   "metadata": {},
   "outputs": [],
   "source": [
    "def pair_wise_verse(poem):\n",
    "    pair_poem = []\n",
    "     \n",
    "    length = len(poem)\n",
    "    for i in range(0, length, 2):\n",
    "        pair = (poem[i], poem[i+1])\n",
    "        pair_poem.append(pair)\n",
    "    return pair_poem"
   ]
  },
  {
   "cell_type": "code",
   "execution_count": 8,
   "id": "cfe46acf",
   "metadata": {},
   "outputs": [],
   "source": [
    "poem_to_write = pair_wise_verse(flat_poem)"
   ]
  },
  {
   "cell_type": "code",
   "execution_count": 9,
   "id": "eb00f198",
   "metadata": {},
   "outputs": [],
   "source": [
    "with open('data_english/english_poems_processed.txt', 'w', encoding='utf-8') as f:\n",
    "    for p in poem_to_write:\n",
    "        f.write(p[0])\n",
    "        f.write(p[1])\n",
    "        f.write('\\n')"
   ]
  },
  {
   "cell_type": "markdown",
   "id": "a6c1ace4",
   "metadata": {},
   "source": [
    "Process the baseline data to have a '\\n' between each 2 verses"
   ]
  },
  {
   "cell_type": "code",
   "execution_count": 4,
   "id": "c0ecc1bd",
   "metadata": {},
   "outputs": [],
   "source": [
    "with open('baseline/non_rhyming_poem.txt', encoding='utf-8') as f2:\n",
    "    baseline_poem = f2.readlines()\n",
    "    \n",
    "f3 = open('baseline/non_rhyming_poem_baseline.txt', 'w', encoding='utf-8')"
   ]
  },
  {
   "cell_type": "code",
   "execution_count": 28,
   "id": "05a26a69",
   "metadata": {},
   "outputs": [],
   "source": [
    "# take even lenght\n",
    "if len(baseline_poem) % 2 != 0:\n",
    "    baseline_poem = baseline_poem[:len(baseline_poem)-1]\n",
    "\n",
    "# add a '\\n' line\n",
    "count = 0\n",
    "for line in baseline_poem:\n",
    "    count = count + 1\n",
    "    if count % 2 == 0:\n",
    "        f3.writelines(line + '\\n')\n",
    "    else: \n",
    "        f3.write(line)"
   ]
  }
 ],
 "metadata": {
  "kernelspec": {
   "display_name": "Python 3 (ipykernel)",
   "language": "python",
   "name": "python3"
  },
  "language_info": {
   "codemirror_mode": {
    "name": "ipython",
    "version": 3
   },
   "file_extension": ".py",
   "mimetype": "text/x-python",
   "name": "python",
   "nbconvert_exporter": "python",
   "pygments_lexer": "ipython3",
   "version": "3.8.15"
  }
 },
 "nbformat": 4,
 "nbformat_minor": 5
}
