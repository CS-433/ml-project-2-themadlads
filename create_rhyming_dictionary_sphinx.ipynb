{
 "cells": [
  {
   "cell_type": "markdown",
   "id": "3bbe4b37",
   "metadata": {},
   "source": [
    "### This is a notebook that generates a rhyming dictionnary file that we used in our rhyming score functions"
   ]
  },
  {
   "cell_type": "code",
   "execution_count": 1,
   "id": "c1351303-e274-4e75-ba3c-e17a51626930",
   "metadata": {},
   "outputs": [],
   "source": [
    "import pickle\n",
    "import os\n",
    "import numpy as np"
   ]
  },
  {
   "cell_type": "code",
   "execution_count": 2,
   "id": "7c427cd5-2196-42fe-b77e-6982ed7b896e",
   "metadata": {},
   "outputs": [
    {
     "name": "stdout",
     "output_type": "stream",
     "text": [
      "132962\n",
      "[('abdicate', ['ae', 'b', 'd', 'ah', 'k', 'ey', 't']), ('abdicated', ['ae', 'b', 'd', 'ah', 'k', 'ey', 't', 'ah', 'd']), ('abdicates', ['ae', 'b', 'd', 'ah', 'k', 'ey', 't', 's']), ('abdicating', ['ae', 'b', 'd', 'ih', 'k', 'ey', 't', 'ih', 'ng']), ('abdication', ['ae', 'b', 'd', 'ih', 'k', 'ey', 'sh', 'ah', 'n']), ('abdnor', ['ae', 'b', 'd', 'n', 'er']), ('abdo', ['ae', 'b', 'd', 'ow']), ('abdollah', ['ae', 'b', 'd', 'aa', 'l', 'ah']), ('abdomen', ['ae', 'b', 'd', 'ow', 'm', 'ah', 'n']), ('abdomen(2)', ['ae', 'b', 'd', 'ah', 'm', 'ah', 'n'])]\n"
     ]
    }
   ],
   "source": [
    "with open(\"phonetic_dictionary.txt\", \"r\") as f:\n",
    "    raw = f.read().split(\"\\n\")[:-1][64:-5] # 64- -5 to not get punctuation mark spellings\n",
    "    \n",
    "phonetic_dictionary = {line.split(\"\\t\")[0].lower(): line.split(\"\\t\")[1].lower().split() for line in raw}\n",
    "print(len(list(phonetic_dictionary.items())))\n",
    "print(list(phonetic_dictionary.items())[100:110])\n",
    "\n",
    "# old format\n",
    "# phonetic_dictionary = [[line.split(\"\\t\")[0].lower(), list(line.split(\"\\t\")[1].lower().split()), pos] for pos, line in enumerate(raw)]"
   ]
  },
  {
   "cell_type": "code",
   "execution_count": 3,
   "id": "223bc49e-660b-4fba-a709-444b6de578df",
   "metadata": {},
   "outputs": [],
   "source": [
    "phonemic_vowels = [\"AA\",\"AE\",\"AH\",\"AO\",\"AW\",\"AY\",\"EH\",\"EY\",\"IH\",\"IY\",\"OW\",\"OY\",\"UH\",\"UW\",\"W\",\"Y\"] + [\"ER\"]\n",
    "# phonemic_consonants = [\"B\",\"CH\",\"D\",\"DH\",\"F\",\"G\",\"HH\",\"K\",\"L\",\"M\",\"N\",\"NG\",\"JH\",\"P\",\"R\",\"S\",\"SH\",\"T\",\"TH\",\"V\",\"Z\",\"ZH\",\"SIL\"]"
   ]
  },
  {
   "cell_type": "code",
   "execution_count": 4,
   "id": "c3a317df-94ba-45c9-ae9a-97455525b442",
   "metadata": {},
   "outputs": [],
   "source": [
    "# rhyme: \"final group of vowels,\n",
    "# optionally followed by a group of consonants, as well as \n",
    "# the group of consonants that precedes the group of vowels (Van de Cruys)\n",
    "\n",
    "word2rhymes = {}\n",
    "\n",
    "for key, phonemes in phonetic_dictionary.items():\n",
    "    final_pos = 0\n",
    "    for pos, phoneme in enumerate(phonemes):\n",
    "        if phoneme.upper() in phonemic_vowels:\n",
    "            final_pos = pos\n",
    "    assonant_rhyme = phonemes[final_pos]\n",
    "    perf_rhyme = \"\".join(phonemes[final_pos:])\n",
    "    # non-perfect rhyme: check explicitly that previous phoneme is consonant\n",
    "    # if phonemes[final_pos - 1] in phonemic_vowels:\n",
    "    #     perf_rhyme = \"\".join(phonemes[final_pos:])\n",
    "    # else:\n",
    "    #     perf_rhyme = \"\".join(phonemes[final_pos-1:])\n",
    "\n",
    "    word2rhymes[key] = [perf_rhyme, assonant_rhyme]"
   ]
  },
  {
   "cell_type": "code",
   "execution_count": 5,
   "id": "8cb09a9e-61f3-41ae-a872-2da6747d27b4",
   "metadata": {},
   "outputs": [
    {
     "name": "stdout",
     "output_type": "stream",
     "text": [
      "busch ['uhsh', 'uh']\n",
      "alsdorf ['aorf', 'ao']\n",
      "spotts ['aats', 'aa']\n",
      "lambert's ['erts', 'er']\n",
      "pickerel ['ahl', 'ah']\n",
      "copycodes ['owdz', 'ow']\n",
      "portability ['iy', 'iy']\n",
      "walkington ['ahn', 'ah']\n",
      "recreated ['ihd', 'ih']\n",
      "coverdale ['eyl', 'ey']\n",
      "funches ['ihz', 'ih']\n",
      "faggot ['aht', 'ah']\n",
      "nonacademic ['ihk', 'ih']\n",
      "rinne ['ihn', 'ih']\n",
      "canupp ['ahp', 'ah']\n",
      "dimenaci ['iy', 'iy']\n",
      "behead(2) ['ehd', 'eh']\n",
      "athlone ['own', 'ow']\n",
      "knocked ['aakt', 'aa']\n",
      "wheaton ['ahn', 'ah']\n",
      "tradeable ['ahl', 'ah']\n",
      "franchised ['ayzd', 'ay']\n",
      "discolored ['erd', 'er']\n",
      "myrilla ['ah', 'ah']\n",
      "beset ['eht', 'eh']\n",
      "ransburg's ['ergz', 'er']\n",
      "revives ['ayvz', 'ay']\n",
      "whitted ['ihd', 'ih']\n",
      "overextended ['ahd', 'ah']\n",
      "inconstancy ['iy', 'iy']\n",
      "conflict ['ihkt', 'ih']\n",
      "medaphis ['ihs', 'ih']\n",
      "salmi ['iy', 'iy']\n",
      "sampre ['iy', 'iy']\n",
      "kempson ['ahn', 'ah']\n",
      "caution(2) ['ahn', 'ah']\n",
      "exasperated ['ihd', 'ih']\n",
      "residence ['ahns', 'ah']\n",
      "jojoba ['ah', 'ah']\n",
      "theocratic ['ihk', 'ih']\n",
      "ikenberry ['iy', 'iy']\n",
      "rine ['ayn', 'ay']\n",
      "rudner ['er', 'er']\n",
      "fauroux ['uw', 'uw']\n",
      "parents ['ahnts', 'ah']\n",
      "eledge ['ihjh', 'ih']\n",
      "lister ['er', 'er']\n",
      "nonqualified ['ayd', 'ay']\n",
      "humann ['ahn', 'ah']\n",
      "crevier ['er', 'er']\n",
      "lupatkin ['ihn', 'ih']\n",
      "faeth ['iyth', 'iy']\n",
      "improvising ['ihng', 'ih']\n",
      "bishops ['ahps', 'ah']\n",
      "spellbound ['awnd', 'aw']\n",
      "bullfrogs ['aogz', 'ao']\n",
      "thursday's(2) ['eyz', 'ey']\n",
      "matulis ['ihs', 'ih']\n",
      "walter ['er', 'er']\n",
      "fashion's ['ahnz', 'ah']\n",
      "speakes ['iyks', 'iy']\n",
      "taker ['er', 'er']\n",
      "calmly(2) ['iy', 'iy']\n",
      "remold ['owld', 'ow']\n",
      "iba ['ah', 'ah']\n",
      "trimedyne ['ayn', 'ay']\n",
      "awake ['eyk', 'ey']\n",
      "embellishing ['ihng', 'ih']\n",
      "schlenker ['er', 'er']\n",
      "oyler ['er', 'er']\n",
      "roaster ['er', 'er']\n",
      "wolford ['erd', 'er']\n",
      "quench ['ehnch', 'eh']\n",
      "introductory(2) ['iy', 'iy']\n",
      "proponent ['ahnt', 'ah']\n",
      "bergstresser ['er', 'er']\n",
      "lampooned ['uwnd', 'uw']\n",
      "melland ['ahnd', 'ah']\n",
      "redundancies ['iyz', 'iy']\n",
      "halperin(2) ['ihn', 'ih']\n",
      "bunched ['ahncht', 'ah']\n",
      "herrmann ['ahn', 'ah']\n",
      "june ['uwn', 'uw']\n",
      "heidi ['iy', 'iy']\n",
      "mencken ['ahn', 'ah']\n",
      "cocanougher ['er', 'er']\n",
      "iser ['er', 'er']\n",
      "barton ['ahn', 'ah']\n",
      "michaelis ['ihs', 'ih']\n",
      "chriboniko's ['owz', 'ow']\n",
      "revising(2) ['ihng', 'ih']\n",
      "largesse ['ehs', 'eh']\n",
      "schaafsma ['ah', 'ah']\n",
      "solidifying ['ihng', 'ih']\n",
      "splashy ['iy', 'iy']\n",
      "positively ['iy', 'iy']\n",
      "marked ['aarkt', 'aa']\n",
      "cossack ['ahk', 'ah']\n",
      "murmured ['erd', 'er']\n",
      "sinner ['er', 'er']\n"
     ]
    }
   ],
   "source": [
    "for key in np.random.choice(list(word2rhymes.keys()), 100):\n",
    "    print(key, word2rhymes[key])"
   ]
  },
  {
   "cell_type": "code",
   "execution_count": 6,
   "id": "f17152e0-107e-4e15-9dcf-0f7d696bd47f",
   "metadata": {},
   "outputs": [
    {
     "name": "stdout",
     "output_type": "stream",
     "text": [
      "132962\n",
      "123631\n"
     ]
    }
   ],
   "source": [
    "# remove keys with parenthesis and numbers\n",
    "print(len(word2rhymes))\n",
    "word2rhymes = {key: val for key, val in word2rhymes.items() if \"(\" not in key and \")\" not in key }\n",
    "print(len(word2rhymes))\n",
    "\n",
    "# remove keys with less than 3 characters\n",
    "# word2rhymes = {key: val for key, val in word2rhymes.items() if len(key) >= 3}\n",
    "# print(len(word2rhymes))"
   ]
  },
  {
   "cell_type": "code",
   "execution_count": 7,
   "id": "75bfa3c9-d964-45e0-adb5-213b8686a0c1",
   "metadata": {},
   "outputs": [
    {
     "name": "stdout",
     "output_type": "stream",
     "text": [
      "['abductors', 'absorbers', 'abusers', 'accelerators', 'accelerometers', \"accor's\", 'accumulators', 'accusers', 'achievers', \"acker's\"]\n",
      "['a', 'aachen', 'aamodt', 'aardema', 'aaron', \"aaron's\", 'aarons', 'aaronson', \"aaronson's\", 'aasen']\n"
     ]
    }
   ],
   "source": [
    "perf_rhyme = {}\n",
    "assonant_rhyme = {}\n",
    "\n",
    "# using loop to perform reverse mapping\n",
    "for key, vals in word2rhymes.items(): \n",
    "    cons = vals[0]\n",
    "    asson = vals[1]\n",
    "    \n",
    "    if cons in perf_rhyme.keys():\n",
    "        perf_rhyme[cons] += [key]\n",
    "    else:\n",
    "        perf_rhyme[cons] = [key]\n",
    "\n",
    "    if asson in assonant_rhyme.keys():\n",
    "        assonant_rhyme[asson] += [key]\n",
    "    else:\n",
    "        assonant_rhyme[asson] = [key]\n",
    "\n",
    "        \n",
    "print(perf_rhyme[\"erz\"][:10])\n",
    "print(assonant_rhyme[\"ah\"][:10])"
   ]
  },
  {
   "cell_type": "code",
   "execution_count": 8,
   "id": "7648951c-25f8-4616-b6bf-7f533e777a29",
   "metadata": {},
   "outputs": [],
   "source": [
    "with open(\"../utils/data/rhyming_dictionaries.pickle\", \"wb\") as f:\n",
    "    pickle.dump([word2rhymes, perf_rhyme, assonant_rhyme], f, protocol=pickle.HIGHEST_PROTOCOL)"
   ]
  },
  {
   "cell_type": "code",
   "execution_count": 11,
   "id": "fe3adc54-b022-4d10-9f78-9e008583b5a7",
   "metadata": {},
   "outputs": [
    {
     "name": "stdout",
     "output_type": "stream",
     "text": [
      "1356\n",
      "19\n",
      "['ah', 'ey', 'er', 'eh', 'ao', 'aa', 'iy', 'ae', 'ow', 'ih', 'aw', 'uw', 'ay', 'oy', 'uh', 'w', 'f', 'y', 'th']\n",
      "['erl', 'er'] ['erl', 'er']\n"
     ]
    }
   ],
   "source": [
    "# with definition of rhyme as: \"final group of vowels,\n",
    "# optionally followed by a group of consonants, as well as \n",
    "# the group of consonants that precedes the group of vowels (Van de Cruys)\n",
    "# we get the following amount of unique perf rhymes: 9522, and if we just forget about the preceding consonant we get: 1356.\n",
    "\n",
    "print(len(perf_rhyme.keys()))\n",
    "print(len(assonant_rhyme.keys()))\n",
    "\n",
    "print(list(assonant_rhyme.keys()))\n",
    "print(word2rhymes[\"girl\"], word2rhymes[\"hurl\"])"
   ]
  },
  {
   "cell_type": "code",
   "execution_count": null,
   "id": "8619cfbf-f50c-49e5-9a2a-10ba931b9de4",
   "metadata": {},
   "outputs": [],
   "source": []
  }
 ],
 "metadata": {
  "kernelspec": {
   "display_name": "Python 3 (ipykernel)",
   "language": "python",
   "name": "python3"
  },
  "language_info": {
   "codemirror_mode": {
    "name": "ipython",
    "version": 3
   },
   "file_extension": ".py",
   "mimetype": "text/x-python",
   "name": "python",
   "nbconvert_exporter": "python",
   "pygments_lexer": "ipython3",
   "version": "3.8.15"
  }
 },
 "nbformat": 4,
 "nbformat_minor": 5
}
